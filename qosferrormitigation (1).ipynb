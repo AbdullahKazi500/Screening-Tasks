{
  "nbformat": 4,
  "nbformat_minor": 0,
  "metadata": {
    "colab": {
      "provenance": []
    },
    "kernelspec": {
      "name": "python3",
      "display_name": "Python 3"
    },
    "language_info": {
      "name": "python"
    }
  },
  "cells": [
    {
      "cell_type": "markdown",
      "source": [
        "Task 3 ZNE\n",
        "Zero-noise extrapolation (ZNE) is a noise mitigation technique. It works by intentionally scaling the noise of a quantum circuit to then extrapolate the zero-noise limit of an observable of interest. In this task, you will build a simple ZNE function from scratch:\n",
        "Build a simple noise model with depolarizing noise\n",
        "Create different circuits to test your noise models and choose the observable to measure\n",
        "Apply the unitary folding method.\n",
        "Apply the extrapolation method to get the zero-noise limit. Different extrapolation methods achieve different results, such as Linear, polynomial, and exponential.\n",
        "Compare mitigated and unmitigated results\n",
        "Bonus: Run your ZNE function in real quantum hardware through the IBM Quantum Service\n",
        "\n",
        "Check the Mitiq documentation for references. You are not allowed to use the functions from Mitiq or any other frameworks where ZNE is already implemented.\n"
      ],
      "metadata": {
        "id": "6e-15rRkrcaJ"
      }
    },
    {
      "cell_type": "markdown",
      "source": [
        "Evaluating Error Mitigation Strategies for Ground State Calculation of H2 Molecule\n",
        "\n",
        "This project focuses on investigating various methodologies to determine the ground state of the H2 molecule, each with its own set of advantages and limitations. The methodologies explored primarily involve considering single and double excitations. Some of the approaches employed simplify the model significantly but may sacrifice chemical accuracy, while others leverage error mitigation techniques more efficiently, particularly through Qiskit runtime, which complements hybrid algorithms like VQE.\n",
        "\n",
        "we also look into Various error mitigation techniques like Zero noise extrpolation and it's variants to study the energy landscape curve and to observe the Mitigated and unmitigated error results\n",
        "\n",
        "For this project, the following modules are required: Qiskit and Pennylane for conducting quantum simulations, PySCF as an open-source library containing electronic structure modules, as well as Mitiq from Unitary fund and other Visualization and plotting packages\n",
        "."
      ],
      "metadata": {
        "id": "dm6tNf71sBS_"
      }
    },
    {
      "cell_type": "code",
      "source": [
        "#Install the required packages\n",
        "'''\n",
        "!pip install qiskit\n",
        "!pip install pennylane\n",
        "!pip install qiskit_nature\n",
        "!pip install scipy\n",
        "!pip install pyscf\n",
        "!pip install qiskit_ibm_runtime\n",
        "'''"
      ],
      "metadata": {
        "colab": {
          "base_uri": "https://localhost:8080/",
          "height": 36
        },
        "id": "2xhkgPn7rrBI",
        "outputId": "a5246617-a3db-43f9-c003-5bfd3ec50892"
      },
      "execution_count": null,
      "outputs": [
        {
          "output_type": "execute_result",
          "data": {
            "text/plain": [
              "'\\n!pip install qiskit\\n!pip install pennylane\\n!pip install qiskit_nature\\n!pip install scipy\\n!pip install pyscf\\n!pip install qiskit_ibm_runtime\\n'"
            ],
            "application/vnd.google.colaboratory.intrinsic+json": {
              "type": "string"
            }
          },
          "metadata": {},
          "execution_count": 1
        }
      ]
    },
    {
      "cell_type": "code",
      "source": [
        "!pip install qiskit"
      ],
      "metadata": {
        "colab": {
          "base_uri": "https://localhost:8080/"
        },
        "id": "6F5IaPiHtirr",
        "outputId": "aa17df1a-1c43-4abb-99e0-6c8303f72530"
      },
      "execution_count": null,
      "outputs": [
        {
          "output_type": "stream",
          "name": "stdout",
          "text": [
            "Collecting qiskit\n",
            "  Downloading qiskit-1.0.2-cp38-abi3-manylinux_2_17_x86_64.manylinux2014_x86_64.whl (5.6 MB)\n",
            "\u001b[2K     \u001b[90m━━━━━━━━━━━━━━━━━━━━━━━━━━━━━━━━━━━━━━━━\u001b[0m \u001b[32m5.6/5.6 MB\u001b[0m \u001b[31m20.7 MB/s\u001b[0m eta \u001b[36m0:00:00\u001b[0m\n",
            "\u001b[?25hCollecting rustworkx>=0.14.0 (from qiskit)\n",
            "  Downloading rustworkx-0.14.2-cp310-cp310-manylinux_2_17_x86_64.manylinux2014_x86_64.whl (2.1 MB)\n",
            "\u001b[2K     \u001b[90m━━━━━━━━━━━━━━━━━━━━━━━━━━━━━━━━━━━━━━━━\u001b[0m \u001b[32m2.1/2.1 MB\u001b[0m \u001b[31m76.9 MB/s\u001b[0m eta \u001b[36m0:00:00\u001b[0m\n",
            "\u001b[?25hRequirement already satisfied: numpy<2,>=1.17 in /usr/local/lib/python3.10/dist-packages (from qiskit) (1.25.2)\n",
            "Requirement already satisfied: scipy>=1.5 in /usr/local/lib/python3.10/dist-packages (from qiskit) (1.11.4)\n",
            "Requirement already satisfied: sympy>=1.3 in /usr/local/lib/python3.10/dist-packages (from qiskit) (1.12)\n",
            "Collecting dill>=0.3 (from qiskit)\n",
            "  Downloading dill-0.3.8-py3-none-any.whl (116 kB)\n",
            "\u001b[2K     \u001b[90m━━━━━━━━━━━━━━━━━━━━━━━━━━━━━━━━━━━━━━━━\u001b[0m \u001b[32m116.3/116.3 kB\u001b[0m \u001b[31m5.9 MB/s\u001b[0m eta \u001b[36m0:00:00\u001b[0m\n",
            "\u001b[?25hRequirement already satisfied: python-dateutil>=2.8.0 in /usr/local/lib/python3.10/dist-packages (from qiskit) (2.8.2)\n",
            "Collecting stevedore>=3.0.0 (from qiskit)\n",
            "  Downloading stevedore-5.2.0-py3-none-any.whl (49 kB)\n",
            "\u001b[2K     \u001b[90m━━━━━━━━━━━━━━━━━━━━━━━━━━━━━━━━━━━━━━━━\u001b[0m \u001b[32m49.7/49.7 kB\u001b[0m \u001b[31m2.3 MB/s\u001b[0m eta \u001b[36m0:00:00\u001b[0m\n",
            "\u001b[?25hRequirement already satisfied: typing-extensions in /usr/local/lib/python3.10/dist-packages (from qiskit) (4.10.0)\n",
            "Collecting symengine>=0.11 (from qiskit)\n",
            "  Downloading symengine-0.11.0-cp310-cp310-manylinux_2_12_x86_64.manylinux2010_x86_64.whl (39.4 MB)\n",
            "\u001b[2K     \u001b[90m━━━━━━━━━━━━━━━━━━━━━━━━━━━━━━━━━━━━━━━━\u001b[0m \u001b[32m39.4/39.4 MB\u001b[0m \u001b[31m15.3 MB/s\u001b[0m eta \u001b[36m0:00:00\u001b[0m\n",
            "\u001b[?25hRequirement already satisfied: six>=1.5 in /usr/local/lib/python3.10/dist-packages (from python-dateutil>=2.8.0->qiskit) (1.16.0)\n",
            "Collecting pbr!=2.1.0,>=2.0.0 (from stevedore>=3.0.0->qiskit)\n",
            "  Downloading pbr-6.0.0-py2.py3-none-any.whl (107 kB)\n",
            "\u001b[2K     \u001b[90m━━━━━━━━━━━━━━━━━━━━━━━━━━━━━━━━━━━━━━━━\u001b[0m \u001b[32m107.5/107.5 kB\u001b[0m \u001b[31m10.3 MB/s\u001b[0m eta \u001b[36m0:00:00\u001b[0m\n",
            "\u001b[?25hRequirement already satisfied: mpmath>=0.19 in /usr/local/lib/python3.10/dist-packages (from sympy>=1.3->qiskit) (1.3.0)\n",
            "Installing collected packages: symengine, rustworkx, pbr, dill, stevedore, qiskit\n",
            "Successfully installed dill-0.3.8 pbr-6.0.0 qiskit-1.0.2 rustworkx-0.14.2 stevedore-5.2.0 symengine-0.11.0\n"
          ]
        }
      ]
    },
    {
      "cell_type": "code",
      "source": [
        "!pip install pennylane"
      ],
      "metadata": {
        "colab": {
          "base_uri": "https://localhost:8080/"
        },
        "id": "LjnjPcKLtWZx",
        "outputId": "d2d298de-271a-427a-c684-e75efbec7c66"
      },
      "execution_count": null,
      "outputs": [
        {
          "output_type": "stream",
          "name": "stdout",
          "text": [
            "Collecting pennylane\n",
            "  Downloading PennyLane-0.35.1-py3-none-any.whl (1.6 MB)\n",
            "\u001b[2K     \u001b[90m━━━━━━━━━━━━━━━━━━━━━━━━━━━━━━━━━━━━━━━━\u001b[0m \u001b[32m1.6/1.6 MB\u001b[0m \u001b[31m9.2 MB/s\u001b[0m eta \u001b[36m0:00:00\u001b[0m\n",
            "\u001b[?25hRequirement already satisfied: numpy in /usr/local/lib/python3.10/dist-packages (from pennylane) (1.25.2)\n",
            "Requirement already satisfied: scipy in /usr/local/lib/python3.10/dist-packages (from pennylane) (1.11.4)\n",
            "Requirement already satisfied: networkx in /usr/local/lib/python3.10/dist-packages (from pennylane) (3.2.1)\n",
            "Requirement already satisfied: rustworkx in /usr/local/lib/python3.10/dist-packages (from pennylane) (0.14.2)\n",
            "Requirement already satisfied: autograd in /usr/local/lib/python3.10/dist-packages (from pennylane) (1.6.2)\n",
            "Requirement already satisfied: toml in /usr/local/lib/python3.10/dist-packages (from pennylane) (0.10.2)\n",
            "Requirement already satisfied: appdirs in /usr/local/lib/python3.10/dist-packages (from pennylane) (1.4.4)\n",
            "Collecting semantic-version>=2.7 (from pennylane)\n",
            "  Downloading semantic_version-2.10.0-py2.py3-none-any.whl (15 kB)\n",
            "Collecting autoray>=0.6.1 (from pennylane)\n",
            "  Downloading autoray-0.6.9-py3-none-any.whl (49 kB)\n",
            "\u001b[2K     \u001b[90m━━━━━━━━━━━━━━━━━━━━━━━━━━━━━━━━━━━━━━━━\u001b[0m \u001b[32m49.8/49.8 kB\u001b[0m \u001b[31m5.4 MB/s\u001b[0m eta \u001b[36m0:00:00\u001b[0m\n",
            "\u001b[?25hRequirement already satisfied: cachetools in /usr/local/lib/python3.10/dist-packages (from pennylane) (5.3.3)\n",
            "Collecting pennylane-lightning>=0.35 (from pennylane)\n",
            "  Downloading PennyLane_Lightning-0.35.1-cp310-cp310-manylinux_2_17_x86_64.manylinux2014_x86_64.whl (18.5 MB)\n",
            "\u001b[2K     \u001b[90m━━━━━━━━━━━━━━━━━━━━━━━━━━━━━━━━━━━━━━━━\u001b[0m \u001b[32m18.5/18.5 MB\u001b[0m \u001b[31m42.1 MB/s\u001b[0m eta \u001b[36m0:00:00\u001b[0m\n",
            "\u001b[?25hRequirement already satisfied: requests in /usr/local/lib/python3.10/dist-packages (from pennylane) (2.31.0)\n",
            "Requirement already satisfied: typing-extensions in /usr/local/lib/python3.10/dist-packages (from pennylane) (4.10.0)\n",
            "Requirement already satisfied: future>=0.15.2 in /usr/local/lib/python3.10/dist-packages (from autograd->pennylane) (0.18.3)\n",
            "Requirement already satisfied: charset-normalizer<4,>=2 in /usr/local/lib/python3.10/dist-packages (from requests->pennylane) (3.3.2)\n",
            "Requirement already satisfied: idna<4,>=2.5 in /usr/local/lib/python3.10/dist-packages (from requests->pennylane) (3.6)\n",
            "Requirement already satisfied: urllib3<3,>=1.21.1 in /usr/local/lib/python3.10/dist-packages (from requests->pennylane) (2.0.7)\n",
            "Requirement already satisfied: certifi>=2017.4.17 in /usr/local/lib/python3.10/dist-packages (from requests->pennylane) (2024.2.2)\n",
            "Installing collected packages: semantic-version, autoray, pennylane-lightning, pennylane\n",
            "Successfully installed autoray-0.6.9 pennylane-0.35.1 pennylane-lightning-0.35.1 semantic-version-2.10.0\n"
          ]
        }
      ]
    },
    {
      "cell_type": "code",
      "source": [
        "!pip install qiskit-aer"
      ],
      "metadata": {
        "colab": {
          "base_uri": "https://localhost:8080/"
        },
        "id": "KAIf2a3KudJ4",
        "outputId": "d6aad207-0c09-4d25-c83e-ca45f5760064"
      },
      "execution_count": null,
      "outputs": [
        {
          "output_type": "stream",
          "name": "stdout",
          "text": [
            "Collecting qiskit-aer\n",
            "  Downloading qiskit_aer-0.13.3-cp310-cp310-manylinux_2_17_x86_64.manylinux2014_x86_64.whl (12.3 MB)\n",
            "\u001b[2K     \u001b[90m━━━━━━━━━━━━━━━━━━━━━━━━━━━━━━━━━━━━━━━━\u001b[0m \u001b[32m12.3/12.3 MB\u001b[0m \u001b[31m62.3 MB/s\u001b[0m eta \u001b[36m0:00:00\u001b[0m\n",
            "\u001b[?25hRequirement already satisfied: qiskit>=0.45.0 in /usr/local/lib/python3.10/dist-packages (from qiskit-aer) (1.0.2)\n",
            "Requirement already satisfied: numpy>=1.16.3 in /usr/local/lib/python3.10/dist-packages (from qiskit-aer) (1.25.2)\n",
            "Requirement already satisfied: scipy>=1.0 in /usr/local/lib/python3.10/dist-packages (from qiskit-aer) (1.11.4)\n",
            "Requirement already satisfied: psutil>=5 in /usr/local/lib/python3.10/dist-packages (from qiskit-aer) (5.9.5)\n",
            "Requirement already satisfied: rustworkx>=0.14.0 in /usr/local/lib/python3.10/dist-packages (from qiskit>=0.45.0->qiskit-aer) (0.14.2)\n",
            "Requirement already satisfied: sympy>=1.3 in /usr/local/lib/python3.10/dist-packages (from qiskit>=0.45.0->qiskit-aer) (1.12)\n",
            "Requirement already satisfied: dill>=0.3 in /usr/local/lib/python3.10/dist-packages (from qiskit>=0.45.0->qiskit-aer) (0.3.8)\n",
            "Requirement already satisfied: python-dateutil>=2.8.0 in /usr/local/lib/python3.10/dist-packages (from qiskit>=0.45.0->qiskit-aer) (2.8.2)\n",
            "Requirement already satisfied: stevedore>=3.0.0 in /usr/local/lib/python3.10/dist-packages (from qiskit>=0.45.0->qiskit-aer) (5.2.0)\n",
            "Requirement already satisfied: typing-extensions in /usr/local/lib/python3.10/dist-packages (from qiskit>=0.45.0->qiskit-aer) (4.10.0)\n",
            "Requirement already satisfied: symengine>=0.11 in /usr/local/lib/python3.10/dist-packages (from qiskit>=0.45.0->qiskit-aer) (0.11.0)\n",
            "Requirement already satisfied: six>=1.5 in /usr/local/lib/python3.10/dist-packages (from python-dateutil>=2.8.0->qiskit>=0.45.0->qiskit-aer) (1.16.0)\n",
            "Requirement already satisfied: pbr!=2.1.0,>=2.0.0 in /usr/local/lib/python3.10/dist-packages (from stevedore>=3.0.0->qiskit>=0.45.0->qiskit-aer) (6.0.0)\n",
            "Requirement already satisfied: mpmath>=0.19 in /usr/local/lib/python3.10/dist-packages (from sympy>=1.3->qiskit>=0.45.0->qiskit-aer) (1.3.0)\n",
            "Installing collected packages: qiskit-aer\n",
            "Successfully installed qiskit-aer-0.13.3\n"
          ]
        }
      ]
    },
    {
      "cell_type": "code",
      "source": [
        "!pip install qiskit_nature\n",
        "!pip install qiskit_ibm_runtime"
      ],
      "metadata": {
        "colab": {
          "base_uri": "https://localhost:8080/"
        },
        "id": "9YoQ5b28vPPv",
        "outputId": "332dd113-502f-405f-ff99-165d36320a33"
      },
      "execution_count": null,
      "outputs": [
        {
          "output_type": "stream",
          "name": "stdout",
          "text": [
            "Collecting qiskit_nature\n",
            "  Downloading qiskit_nature-0.7.2-py3-none-any.whl (2.2 MB)\n",
            "\u001b[2K     \u001b[90m━━━━━━━━━━━━━━━━━━━━━━━━━━━━━━━━━━━━━━━━\u001b[0m \u001b[32m2.2/2.2 MB\u001b[0m \u001b[31m10.7 MB/s\u001b[0m eta \u001b[36m0:00:00\u001b[0m\n",
            "\u001b[?25hRequirement already satisfied: qiskit>=0.44 in /usr/local/lib/python3.10/dist-packages (from qiskit_nature) (1.0.2)\n",
            "Collecting qiskit-algorithms>=0.2.1 (from qiskit_nature)\n",
            "  Downloading qiskit_algorithms-0.3.0-py3-none-any.whl (308 kB)\n",
            "\u001b[2K     \u001b[90m━━━━━━━━━━━━━━━━━━━━━━━━━━━━━━━━━━━━━━━━\u001b[0m \u001b[32m308.6/308.6 kB\u001b[0m \u001b[31m32.7 MB/s\u001b[0m eta \u001b[36m0:00:00\u001b[0m\n",
            "\u001b[?25hRequirement already satisfied: scipy>=1.4 in /usr/local/lib/python3.10/dist-packages (from qiskit_nature) (1.11.4)\n",
            "Requirement already satisfied: numpy>=1.17 in /usr/local/lib/python3.10/dist-packages (from qiskit_nature) (1.25.2)\n",
            "Requirement already satisfied: psutil>=5 in /usr/local/lib/python3.10/dist-packages (from qiskit_nature) (5.9.5)\n",
            "Requirement already satisfied: setuptools>=40.1.0 in /usr/local/lib/python3.10/dist-packages (from qiskit_nature) (67.7.2)\n",
            "Requirement already satisfied: typing-extensions in /usr/local/lib/python3.10/dist-packages (from qiskit_nature) (4.10.0)\n",
            "Requirement already satisfied: h5py in /usr/local/lib/python3.10/dist-packages (from qiskit_nature) (3.9.0)\n",
            "Requirement already satisfied: rustworkx>=0.12 in /usr/local/lib/python3.10/dist-packages (from qiskit_nature) (0.14.2)\n",
            "Requirement already satisfied: sympy>=1.3 in /usr/local/lib/python3.10/dist-packages (from qiskit>=0.44->qiskit_nature) (1.12)\n",
            "Requirement already satisfied: dill>=0.3 in /usr/local/lib/python3.10/dist-packages (from qiskit>=0.44->qiskit_nature) (0.3.8)\n",
            "Requirement already satisfied: python-dateutil>=2.8.0 in /usr/local/lib/python3.10/dist-packages (from qiskit>=0.44->qiskit_nature) (2.8.2)\n",
            "Requirement already satisfied: stevedore>=3.0.0 in /usr/local/lib/python3.10/dist-packages (from qiskit>=0.44->qiskit_nature) (5.2.0)\n",
            "Requirement already satisfied: symengine>=0.11 in /usr/local/lib/python3.10/dist-packages (from qiskit>=0.44->qiskit_nature) (0.11.0)\n",
            "Requirement already satisfied: six>=1.5 in /usr/local/lib/python3.10/dist-packages (from python-dateutil>=2.8.0->qiskit>=0.44->qiskit_nature) (1.16.0)\n",
            "Requirement already satisfied: pbr!=2.1.0,>=2.0.0 in /usr/local/lib/python3.10/dist-packages (from stevedore>=3.0.0->qiskit>=0.44->qiskit_nature) (6.0.0)\n",
            "Requirement already satisfied: mpmath>=0.19 in /usr/local/lib/python3.10/dist-packages (from sympy>=1.3->qiskit>=0.44->qiskit_nature) (1.3.0)\n",
            "Installing collected packages: qiskit-algorithms, qiskit_nature\n",
            "Successfully installed qiskit-algorithms-0.3.0 qiskit_nature-0.7.2\n",
            "Collecting qiskit_ibm_runtime\n",
            "  Downloading qiskit_ibm_runtime-0.21.1-py3-none-any.whl (3.0 MB)\n",
            "\u001b[2K     \u001b[90m━━━━━━━━━━━━━━━━━━━━━━━━━━━━━━━━━━━━━━━━\u001b[0m \u001b[32m3.0/3.0 MB\u001b[0m \u001b[31m11.2 MB/s\u001b[0m eta \u001b[36m0:00:00\u001b[0m\n",
            "\u001b[?25hRequirement already satisfied: requests>=2.19 in /usr/local/lib/python3.10/dist-packages (from qiskit_ibm_runtime) (2.31.0)\n",
            "Collecting requests-ntlm>=1.1.0 (from qiskit_ibm_runtime)\n",
            "  Downloading requests_ntlm-1.2.0-py3-none-any.whl (6.0 kB)\n",
            "Requirement already satisfied: numpy>=1.13 in /usr/local/lib/python3.10/dist-packages (from qiskit_ibm_runtime) (1.25.2)\n",
            "Requirement already satisfied: urllib3>=1.21.1 in /usr/local/lib/python3.10/dist-packages (from qiskit_ibm_runtime) (2.0.7)\n",
            "Requirement already satisfied: python-dateutil>=2.8.0 in /usr/local/lib/python3.10/dist-packages (from qiskit_ibm_runtime) (2.8.2)\n",
            "Requirement already satisfied: websocket-client>=1.5.1 in /usr/local/lib/python3.10/dist-packages (from qiskit_ibm_runtime) (1.7.0)\n",
            "Collecting ibm-platform-services>=0.22.6 (from qiskit_ibm_runtime)\n",
            "  Downloading ibm-platform-services-0.52.0.tar.gz (316 kB)\n",
            "\u001b[2K     \u001b[90m━━━━━━━━━━━━━━━━━━━━━━━━━━━━━━━━━━━━━━━━\u001b[0m \u001b[32m316.3/316.3 kB\u001b[0m \u001b[31m35.1 MB/s\u001b[0m eta \u001b[36m0:00:00\u001b[0m\n",
            "\u001b[?25h  Installing build dependencies ... \u001b[?25l\u001b[?25hdone\n",
            "  Getting requirements to build wheel ... \u001b[?25l\u001b[?25hdone\n",
            "  Preparing metadata (pyproject.toml) ... \u001b[?25l\u001b[?25hdone\n",
            "Requirement already satisfied: pydantic in /usr/local/lib/python3.10/dist-packages (from qiskit_ibm_runtime) (2.6.4)\n",
            "Requirement already satisfied: qiskit>=1.0.0 in /usr/local/lib/python3.10/dist-packages (from qiskit_ibm_runtime) (1.0.2)\n",
            "Collecting ibm-cloud-sdk-core<4.0.0,>=3.19.2 (from ibm-platform-services>=0.22.6->qiskit_ibm_runtime)\n",
            "  Downloading ibm-cloud-sdk-core-3.19.2.tar.gz (61 kB)\n",
            "\u001b[2K     \u001b[90m━━━━━━━━━━━━━━━━━━━━━━━━━━━━━━━━━━━━━━━━\u001b[0m \u001b[32m62.0/62.0 kB\u001b[0m \u001b[31m9.0 MB/s\u001b[0m eta \u001b[36m0:00:00\u001b[0m\n",
            "\u001b[?25h  Installing build dependencies ... \u001b[?25l\u001b[?25hdone\n",
            "  Getting requirements to build wheel ... \u001b[?25l\u001b[?25hdone\n",
            "  Preparing metadata (pyproject.toml) ... \u001b[?25l\u001b[?25hdone\n",
            "Requirement already satisfied: six>=1.5 in /usr/local/lib/python3.10/dist-packages (from python-dateutil>=2.8.0->qiskit_ibm_runtime) (1.16.0)\n",
            "Requirement already satisfied: rustworkx>=0.14.0 in /usr/local/lib/python3.10/dist-packages (from qiskit>=1.0.0->qiskit_ibm_runtime) (0.14.2)\n",
            "Requirement already satisfied: scipy>=1.5 in /usr/local/lib/python3.10/dist-packages (from qiskit>=1.0.0->qiskit_ibm_runtime) (1.11.4)\n",
            "Requirement already satisfied: sympy>=1.3 in /usr/local/lib/python3.10/dist-packages (from qiskit>=1.0.0->qiskit_ibm_runtime) (1.12)\n",
            "Requirement already satisfied: dill>=0.3 in /usr/local/lib/python3.10/dist-packages (from qiskit>=1.0.0->qiskit_ibm_runtime) (0.3.8)\n",
            "Requirement already satisfied: stevedore>=3.0.0 in /usr/local/lib/python3.10/dist-packages (from qiskit>=1.0.0->qiskit_ibm_runtime) (5.2.0)\n",
            "Requirement already satisfied: typing-extensions in /usr/local/lib/python3.10/dist-packages (from qiskit>=1.0.0->qiskit_ibm_runtime) (4.10.0)\n",
            "Requirement already satisfied: symengine>=0.11 in /usr/local/lib/python3.10/dist-packages (from qiskit>=1.0.0->qiskit_ibm_runtime) (0.11.0)\n",
            "Requirement already satisfied: charset-normalizer<4,>=2 in /usr/local/lib/python3.10/dist-packages (from requests>=2.19->qiskit_ibm_runtime) (3.3.2)\n",
            "Requirement already satisfied: idna<4,>=2.5 in /usr/local/lib/python3.10/dist-packages (from requests>=2.19->qiskit_ibm_runtime) (3.6)\n",
            "Requirement already satisfied: certifi>=2017.4.17 in /usr/local/lib/python3.10/dist-packages (from requests>=2.19->qiskit_ibm_runtime) (2024.2.2)\n",
            "Requirement already satisfied: cryptography>=1.3 in /usr/local/lib/python3.10/dist-packages (from requests-ntlm>=1.1.0->qiskit_ibm_runtime) (42.0.5)\n",
            "Collecting pyspnego>=0.1.6 (from requests-ntlm>=1.1.0->qiskit_ibm_runtime)\n",
            "  Downloading pyspnego-0.10.2-py3-none-any.whl (129 kB)\n",
            "\u001b[2K     \u001b[90m━━━━━━━━━━━━━━━━━━━━━━━━━━━━━━━━━━━━━━━━\u001b[0m \u001b[32m129.9/129.9 kB\u001b[0m \u001b[31m17.5 MB/s\u001b[0m eta \u001b[36m0:00:00\u001b[0m\n",
            "\u001b[?25hRequirement already satisfied: annotated-types>=0.4.0 in /usr/local/lib/python3.10/dist-packages (from pydantic->qiskit_ibm_runtime) (0.6.0)\n",
            "Requirement already satisfied: pydantic-core==2.16.3 in /usr/local/lib/python3.10/dist-packages (from pydantic->qiskit_ibm_runtime) (2.16.3)\n",
            "Requirement already satisfied: cffi>=1.12 in /usr/local/lib/python3.10/dist-packages (from cryptography>=1.3->requests-ntlm>=1.1.0->qiskit_ibm_runtime) (1.16.0)\n",
            "Collecting urllib3>=1.21.1 (from qiskit_ibm_runtime)\n",
            "  Downloading urllib3-2.2.1-py3-none-any.whl (121 kB)\n",
            "\u001b[2K     \u001b[90m━━━━━━━━━━━━━━━━━━━━━━━━━━━━━━━━━━━━━━━━\u001b[0m \u001b[32m121.1/121.1 kB\u001b[0m \u001b[31m17.0 MB/s\u001b[0m eta \u001b[36m0:00:00\u001b[0m\n",
            "\u001b[?25hCollecting PyJWT<3.0.0,>=2.8.0 (from ibm-cloud-sdk-core<4.0.0,>=3.19.2->ibm-platform-services>=0.22.6->qiskit_ibm_runtime)\n",
            "  Downloading PyJWT-2.8.0-py3-none-any.whl (22 kB)\n",
            "Requirement already satisfied: pbr!=2.1.0,>=2.0.0 in /usr/local/lib/python3.10/dist-packages (from stevedore>=3.0.0->qiskit>=1.0.0->qiskit_ibm_runtime) (6.0.0)\n",
            "Requirement already satisfied: mpmath>=0.19 in /usr/local/lib/python3.10/dist-packages (from sympy>=1.3->qiskit>=1.0.0->qiskit_ibm_runtime) (1.3.0)\n",
            "Requirement already satisfied: pycparser in /usr/local/lib/python3.10/dist-packages (from cffi>=1.12->cryptography>=1.3->requests-ntlm>=1.1.0->qiskit_ibm_runtime) (2.21)\n",
            "Building wheels for collected packages: ibm-platform-services, ibm-cloud-sdk-core\n",
            "  Building wheel for ibm-platform-services (pyproject.toml) ... \u001b[?25l\u001b[?25hdone\n",
            "  Created wheel for ibm-platform-services: filename=ibm_platform_services-0.52.0-py3-none-any.whl size=331902 sha256=030b41b9c70520db307bd1575eed69b3959044f4a206f92855aeaddd99eda0ff\n",
            "  Stored in directory: /root/.cache/pip/wheels/9b/34/7b/f02968953b977f20d07a36eab5f7ea8c4d6590f5919940a9f8\n",
            "  Building wheel for ibm-cloud-sdk-core (pyproject.toml) ... \u001b[?25l\u001b[?25hdone\n",
            "  Created wheel for ibm-cloud-sdk-core: filename=ibm_cloud_sdk_core-3.19.2-py3-none-any.whl size=98827 sha256=516d5a94526c849cd1261bd739d149f47c30d63e8dfb5d50fad28b7ac753b0a1\n",
            "  Stored in directory: /root/.cache/pip/wheels/90/05/db/f544eb28b85089bf6cf29cb9e30f56b471bf59d56a46c92519\n",
            "Successfully built ibm-platform-services ibm-cloud-sdk-core\n",
            "Installing collected packages: urllib3, PyJWT, pyspnego, ibm-cloud-sdk-core, requests-ntlm, ibm-platform-services, qiskit_ibm_runtime\n",
            "  Attempting uninstall: urllib3\n",
            "    Found existing installation: urllib3 2.0.7\n",
            "    Uninstalling urllib3-2.0.7:\n",
            "      Successfully uninstalled urllib3-2.0.7\n",
            "  Attempting uninstall: PyJWT\n",
            "    Found existing installation: PyJWT 2.3.0\n",
            "    Uninstalling PyJWT-2.3.0:\n",
            "      Successfully uninstalled PyJWT-2.3.0\n",
            "Successfully installed PyJWT-2.8.0 ibm-cloud-sdk-core-3.19.2 ibm-platform-services-0.52.0 pyspnego-0.10.2 qiskit_ibm_runtime-0.21.1 requests-ntlm-1.2.0 urllib3-2.2.1\n"
          ]
        }
      ]
    },
    {
      "cell_type": "code",
      "source": [
        "# Import necessary libraries and packages\n",
        "import math\n",
        "import matplotlib.pyplot as plt\n",
        "import numpy as np\n",
        "import pennylane as qml\n",
        "import pennylane.numpy as np\n",
        "import matplotlib.pyplot as plt\n",
        "import pandas as pd"
      ],
      "metadata": {
        "id": "RZAO_RPJzLiy"
      },
      "execution_count": null,
      "outputs": []
    },
    {
      "cell_type": "markdown",
      "source": [
        "Here we have utilize the PennyLane library to load a dataset for the linear H2 molecule at a bond length of 1.1 angstroms. The h2datasets = qml.data.load('qchem', molname=\"H2\" , basis=\"STO-3G\", bondlength=1.1) line loads the dataset for the linear H2 molecule using the QChem plugin in PennyLane. It specifies the molecule name as \"H2\", the basis set as \"STO-3G\", and the bond length as 1.1 angstroms.\n",
        "\n",
        "The hamiltonian = h2datasets[0].hamiltonian line extracts the Hamiltonian from the loaded dataset. The dataset may contain multiple entries, so we access the first entry (h2datasets[0]) and then extract the Hamiltonian associated with it.\n",
        "\n",
        " The qubits = len(hamiltonian.wires) line calculates the number of qubits needed to represent the Hamiltonian. It does so by accessing the wires attribute of the Hamiltonian object and determining its length.\n",
        "\n",
        " the code prints out the number of qubits needed and the Hamiltonian itself for inspection.\n",
        "\n",
        "\n",
        "\n",
        "\n",
        "\n",
        "\n"
      ],
      "metadata": {
        "id": "ZWwFkpZCIEhH"
      }
    },
    {
      "cell_type": "code",
      "source": [
        "# use pennylane dataset for the linear H2 at bond length 1.1\n",
        "h2datasets = qml.data.load('qchem', molname=\"H2\" , basis=\"STO-3G\", bondlength=1.1)\n",
        "\n",
        "hamiltonian = h2datasets[0].hamiltonian\n",
        "\n",
        "# get the qubits\n",
        "qubits = len(hamiltonian.wires)\n",
        "#return Hamiltonian and qubits\n",
        "print(\"Number of qubits needed:\", qubits)\n",
        "print(\"Hamiltonian:\\n\", hamiltonian)"
      ],
      "metadata": {
        "colab": {
          "base_uri": "https://localhost:8080/"
        },
        "id": "2HZ02qoC2toA",
        "outputId": "0c2b35d2-37b3-4cd0-9cd5-57cfe132c3f5"
      },
      "execution_count": null,
      "outputs": [
        {
          "output_type": "stream",
          "name": "stdout",
          "text": [
            "Number of qubits needed: 4\n",
            "Hamiltonian:\n",
            "   (-0.3796867241618816) [I0]\n",
            "+ (-0.10485523662149618) [Z2]\n",
            "+ (-0.10485523662149615) [Z3]\n",
            "+ (0.1265398827193729) [Z0]\n",
            "+ (0.1265398827193729) [Z1]\n",
            "+ (0.10102818539518765) [Z0 Z2]\n",
            "+ (0.10102818539518765) [Z1 Z3]\n",
            "+ (0.15183377864956338) [Z0 Z3]\n",
            "+ (0.15183377864956338) [Z1 Z2]\n",
            "+ (0.15229282586796247) [Z0 Z1]\n",
            "+ (0.1593698831813122) [Z2 Z3]\n",
            "+ (-0.05080559325437572) [Y0 Y1 X2 X3]\n",
            "+ (-0.05080559325437572) [X0 X1 Y2 Y3]\n",
            "+ (0.05080559325437572) [Y0 X1 X2 Y3]\n",
            "+ (0.05080559325437572) [X0 Y1 Y2 X3]\n"
          ]
        }
      ]
    },
    {
      "cell_type": "code",
      "source": [
        "import pennylane as qml\n",
        "import pennylane.numpy as np\n",
        "\n",
        "# symbols\n",
        "symbols = [\"H\", \"H\"]\n",
        "\n",
        "# geometry\n",
        "a = 0.735  # Interatomic distance in Angstroms\n",
        "geometry = np.array([[0.0, 0.0, 0.0],\n",
        "                     [a, 0.0, 0.0]])\n",
        "\n",
        "# Generate the Hamiltonian\n",
        "hamiltonian, qubits = qml.qchem.molecular_hamiltonian(\n",
        "    symbols=symbols,\n",
        "    coordinates=geometry,\n",
        "    charge=0,\n",
        "    mult=1,\n",
        "    basis='sto-3g',\n",
        "    active_electrons=2,\n",
        "    active_orbitals=2,\n",
        "    mapping='jordan_wigner'\n",
        ")\n",
        "\n",
        "print(\"Number of qubits needed:\", qubits)\n",
        "print(\"Hamiltonian:\\n\", hamiltonian)\n"
      ],
      "metadata": {
        "colab": {
          "base_uri": "https://localhost:8080/"
        },
        "id": "rKTXbiyX4MlF",
        "outputId": "9787dc26-b463-4e84-a88d-20b958a0fda2"
      },
      "execution_count": null,
      "outputs": [
        {
          "output_type": "stream",
          "name": "stdout",
          "text": [
            "Number of qubits needed: 4\n",
            "Hamiltonian:\n",
            "   (-0.46369623396031834) [Z2]\n",
            "+ (-0.46369623396031834) [Z3]\n",
            "+ (0.23778812410837596) [Z0]\n",
            "+ (0.23778812410837608) [Z1]\n",
            "+ (0.7905416330590227) [I0]\n",
            "+ (0.1407985649566525) [Z0 Z2]\n",
            "+ (0.1407985649566525) [Z1 Z3]\n",
            "+ (0.18181634392622156) [Z0 Z3]\n",
            "+ (0.18181634392622156) [Z1 Z2]\n",
            "+ (0.18466765822804881) [Z0 Z1]\n",
            "+ (0.19192132833814002) [Z2 Z3]\n",
            "+ (-0.041017778969569096) [Y0 Y1 X2 X3]\n",
            "+ (-0.041017778969569096) [X0 X1 Y2 Y3]\n",
            "+ (0.041017778969569096) [Y0 X1 X2 Y3]\n",
            "+ (0.041017778969569096) [X0 Y1 Y2 X3]\n"
          ]
        }
      ]
    },
    {
      "cell_type": "code",
      "execution_count": null,
      "metadata": {
        "id": "Lbd-bEV14ZGL"
      },
      "outputs": [],
      "source": [
        "aux = 4 # number estimation qubits\n",
        "\n",
        "wires_target = range(qubits) # qubits for the Hamiltonian\n",
        "wires_estimation = range(qubits, qubits + aux) # qubits for the estimation\n",
        "\n",
        "hf = h2datasets[0].hf_state # initial hartree-fock state"
      ]
    },
    {
      "cell_type": "code",
      "execution_count": null,
      "metadata": {
        "id": "RXr-nJAP4ZGL"
      },
      "outputs": [],
      "source": [
        "dev = qml.device(\"lightning.qubit\", wires= qubits + aux)"
      ]
    },
    {
      "cell_type": "code",
      "execution_count": null,
      "metadata": {
        "id": "vK2HtkpY4ZGL"
      },
      "outputs": [],
      "source": [
        "\n",
        "@qml.qnode(dev)\n",
        "def exact_QPE(HCoefs, HTuples, time):\n",
        "    qml.QubitStateVector(initial_state, wires=wires_target) # eigenstate preparation\n",
        "    U_exact=np.conj(exactU(HCoefs,HTuples,time)) # exact exp(iUt) operator\n",
        "    qml.QuantumPhaseEstimation(U_exact, target_wires=wires_target, estimation_wires=wires_estimation)\n",
        "    return qml.probs(wires_estimation)"
      ]
    },
    {
      "cell_type": "code",
      "source": [
        "H =  qml.PauliZ(0) @ qml.PauliZ(1) + qml.PauliZ(1) @ qml.PauliZ(2) + qml.PauliZ(2) @ qml.PauliZ(3)  + qml.PauliX(0) + qml.PauliX(1) + qml.PauliX(2) + qml.PauliX(3)\n"
      ],
      "metadata": {
        "id": "X_kAjamKA300"
      },
      "execution_count": null,
      "outputs": []
    },
    {
      "cell_type": "code",
      "source": [
        "energies = np.zeros(2)\n",
        "\n",
        "# Get the number of qubits in the Hamiltonian\n",
        "num_qubits = len(H.wires)\n",
        "\n",
        "# Initialize the device\n",
        "dev = qml.device('default.qubit', wires=num_qubits)"
      ],
      "metadata": {
        "id": "K2yR81HDA5sb"
      },
      "execution_count": null,
      "outputs": []
    },
    {
      "cell_type": "code",
      "source": [
        "def ansatz(params, wires, state_idx=0):\n",
        "\n",
        "    qml.PauliX(wires=wires[state_idx])\n",
        "    qml.templates.StronglyEntanglingLayers(params, wires=wires)"
      ],
      "metadata": {
        "id": "FvbuGmcQBCAc"
      },
      "execution_count": null,
      "outputs": []
    },
    {
      "cell_type": "code",
      "source": [
        "def total_cost(params):\n",
        "    cost = 0\n",
        "    for state_idx in range(num_qubits):\n",
        "        cost += w[state_idx] * single_cost(params, state_idx=state_idx)\n",
        "    return cost"
      ],
      "metadata": {
        "id": "OXAmLia_BJHL"
      },
      "execution_count": null,
      "outputs": []
    },
    {
      "cell_type": "code",
      "source": [
        "# Set up a cost function and optimizer\n",
        "opt = qml.AdamOptimizer(stepsize=0.05)\n",
        "max_iterations = 100\n",
        "costs = []\n",
        "\n",
        "# Initial parameters for the ansatze\n",
        "num_layers = 9\n",
        "params = np.random.uniform(low=0, high=2*np.pi, size=(num_layers, num_qubits, 3))"
      ],
      "metadata": {
        "id": "d-A1n5OvBPsE"
      },
      "execution_count": null,
      "outputs": []
    },
    {
      "cell_type": "code",
      "source": [
        "energies = \",\".join([str(E) for E in energies])"
      ],
      "metadata": {
        "id": "owtr4KNkBiBk"
      },
      "execution_count": null,
      "outputs": []
    },
    {
      "cell_type": "code",
      "source": [
        "energies"
      ],
      "metadata": {
        "colab": {
          "base_uri": "https://localhost:8080/",
          "height": 36
        },
        "id": "ushrzqWHBluD",
        "outputId": "44b80b46-b650-40db-d5ec-e93ee1bc42bd"
      },
      "execution_count": null,
      "outputs": [
        {
          "output_type": "execute_result",
          "data": {
            "text/plain": [
              "'0,.,0,,,0,.,0'"
            ],
            "application/vnd.google.colaboratory.intrinsic+json": {
              "type": "string"
            }
          },
          "metadata": {},
          "execution_count": 31
        }
      ]
    },
    {
      "cell_type": "code",
      "source": [
        "wires = dev.wires.tolist()\n",
        "\n",
        "\n",
        "@qml.qnode(dev)\n",
        "def energy_expval(params):\n",
        "    circuit(params, wires)\n",
        "    return qml.expval(h)\n",
        "\n",
        "\n",
        "@qml.qnode(dev)\n",
        "def S2_expval(params):\n",
        "    circuit(params, wires)\n",
        "    return qml.expval(S2)"
      ],
      "metadata": {
        "id": "LykEdlJHCjBy"
      },
      "execution_count": null,
      "outputs": []
    },
    {
      "cell_type": "code",
      "source": [
        "#Generate the vector representing the Hartree-Fock state\n",
        "dev = qml.device(\"default.qubit\", wires=qubits)\n",
        "electrons = 2\n",
        "hf = qml.qchem.hf_state(electrons, qubits)\n",
        "print(hf)"
      ],
      "metadata": {
        "colab": {
          "base_uri": "https://localhost:8080/"
        },
        "id": "TDcJLA2yDJc5",
        "outputId": "41f3f327-3577-46d5-ecb7-55ff8eab0036"
      },
      "execution_count": null,
      "outputs": [
        {
          "output_type": "stream",
          "name": "stdout",
          "text": [
            "[1 1 0 0]\n"
          ]
        }
      ]
    },
    {
      "cell_type": "code",
      "source": [
        "#Initialize qubit registers\n",
        "def circuit(param, wires):\n",
        "    qml.BasisState(hf, wires=wires)\n",
        "    qml.DoubleExcitation(param, wires=[0, 1, 2, 3])\n"
      ],
      "metadata": {
        "id": "GBxhoIjMDP8J"
      },
      "execution_count": null,
      "outputs": []
    },
    {
      "cell_type": "code",
      "source": [
        "@qml.qnode(dev, interface=\"autograd\")\n",
        "def cost_fn(param):\n",
        "    circuit(param, wires=range(qubits))\n",
        "    return qml.expval(hamiltonian)"
      ],
      "metadata": {
        "id": "pAZ26s3ODViC"
      },
      "execution_count": null,
      "outputs": []
    },
    {
      "cell_type": "code",
      "source": [
        "#Use a basic gradient-descent optimizer\n",
        "opt = qml.GradientDescentOptimizer(stepsize=0.4)"
      ],
      "metadata": {
        "id": "qgOGDMX1DYYa"
      },
      "execution_count": null,
      "outputs": []
    },
    {
      "cell_type": "code",
      "source": [
        "theta = np.array(0.0, requires_grad=True)"
      ],
      "metadata": {
        "id": "34h2qfd9DbPR"
      },
      "execution_count": null,
      "outputs": []
    },
    {
      "cell_type": "markdown",
      "source": [
        "Here we install Mitiq and do the necessary imports"
      ],
      "metadata": {
        "id": "I_RU6t9fTGAV"
      }
    },
    {
      "cell_type": "code",
      "source": [
        "!pip install mitiq"
      ],
      "metadata": {
        "colab": {
          "base_uri": "https://localhost:8080/",
          "height": 1000
        },
        "id": "wC5w3rUgbwIt",
        "outputId": "fe8aebd7-9c2c-4b72-9042-4b25468e0a0f"
      },
      "execution_count": null,
      "outputs": [
        {
          "output_type": "stream",
          "name": "stdout",
          "text": [
            "Collecting mitiq\n",
            "  Downloading mitiq-0.34.0-py3-none-any.whl (167 kB)\n",
            "\u001b[?25l     \u001b[90m━━━━━━━━━━━━━━━━━━━━━━━━━━━━━━━━━━━━━━━━\u001b[0m \u001b[32m0.0/167.2 kB\u001b[0m \u001b[31m?\u001b[0m eta \u001b[36m-:--:--\u001b[0m\r\u001b[2K     \u001b[91m━━━━━━━━━\u001b[0m\u001b[91m╸\u001b[0m\u001b[90m━━━━━━━━━━━━━━━━━━━━━━━━━━━━━━\u001b[0m \u001b[32m41.0/167.2 kB\u001b[0m \u001b[31m1.1 MB/s\u001b[0m eta \u001b[36m0:00:01\u001b[0m\r\u001b[2K     \u001b[91m━━━━━━━━━━━━━━━━━━━━━━━━━━━━━━━━━━\u001b[0m\u001b[90m╺\u001b[0m\u001b[90m━━━━━\u001b[0m \u001b[32m143.4/167.2 kB\u001b[0m \u001b[31m2.0 MB/s\u001b[0m eta \u001b[36m0:00:01\u001b[0m\r\u001b[2K     \u001b[90m━━━━━━━━━━━━━━━━━━━━━━━━━━━━━━━━━━━━━━━━\u001b[0m \u001b[32m167.2/167.2 kB\u001b[0m \u001b[31m2.1 MB/s\u001b[0m eta \u001b[36m0:00:00\u001b[0m\n",
            "\u001b[?25hRequirement already satisfied: numpy>=1.22.0 in /usr/local/lib/python3.10/dist-packages (from mitiq) (1.25.2)\n",
            "Requirement already satisfied: scipy<=1.11.4,>=1.5.0 in /usr/local/lib/python3.10/dist-packages (from mitiq) (1.11.4)\n",
            "Collecting cirq<1.4.0,>=1.0.0 (from mitiq)\n",
            "  Downloading cirq-1.3.0-py3-none-any.whl (8.1 kB)\n",
            "Requirement already satisfied: tabulate in /usr/local/lib/python3.10/dist-packages (from mitiq) (0.9.0)\n",
            "Collecting cirq-aqt==1.3.0 (from cirq<1.4.0,>=1.0.0->mitiq)\n",
            "  Downloading cirq_aqt-1.3.0-py3-none-any.whl (27 kB)\n",
            "Collecting cirq-core==1.3.0 (from cirq<1.4.0,>=1.0.0->mitiq)\n",
            "  Downloading cirq_core-1.3.0-py3-none-any.whl (1.8 MB)\n",
            "\u001b[2K     \u001b[90m━━━━━━━━━━━━━━━━━━━━━━━━━━━━━━━━━━━━━━━━\u001b[0m \u001b[32m1.8/1.8 MB\u001b[0m \u001b[31m15.4 MB/s\u001b[0m eta \u001b[36m0:00:00\u001b[0m\n",
            "\u001b[?25hCollecting cirq-ft==1.3.0 (from cirq<1.4.0,>=1.0.0->mitiq)\n",
            "  Downloading cirq_ft-1.3.0-py3-none-any.whl (143 kB)\n",
            "\u001b[2K     \u001b[90m━━━━━━━━━━━━━━━━━━━━━━━━━━━━━━━━━━━━━━━━\u001b[0m \u001b[32m143.1/143.1 kB\u001b[0m \u001b[31m17.6 MB/s\u001b[0m eta \u001b[36m0:00:00\u001b[0m\n",
            "\u001b[?25hCollecting cirq-google==1.3.0 (from cirq<1.4.0,>=1.0.0->mitiq)\n",
            "  Downloading cirq_google-1.3.0-py3-none-any.whl (598 kB)\n",
            "\u001b[2K     \u001b[90m━━━━━━━━━━━━━━━━━━━━━━━━━━━━━━━━━━━━━━━━\u001b[0m \u001b[32m598.8/598.8 kB\u001b[0m \u001b[31m56.4 MB/s\u001b[0m eta \u001b[36m0:00:00\u001b[0m\n",
            "\u001b[?25hCollecting cirq-ionq==1.3.0 (from cirq<1.4.0,>=1.0.0->mitiq)\n",
            "  Downloading cirq_ionq-1.3.0-py3-none-any.whl (60 kB)\n",
            "\u001b[2K     \u001b[90m━━━━━━━━━━━━━━━━━━━━━━━━━━━━━━━━━━━━━━━━\u001b[0m \u001b[32m60.9/60.9 kB\u001b[0m \u001b[31m8.2 MB/s\u001b[0m eta \u001b[36m0:00:00\u001b[0m\n",
            "\u001b[?25hCollecting cirq-pasqal==1.3.0 (from cirq<1.4.0,>=1.0.0->mitiq)\n",
            "  Downloading cirq_pasqal-1.3.0-py3-none-any.whl (31 kB)\n",
            "Collecting cirq-rigetti==1.3.0 (from cirq<1.4.0,>=1.0.0->mitiq)\n",
            "  Downloading cirq_rigetti-1.3.0-py3-none-any.whl (66 kB)\n",
            "\u001b[2K     \u001b[90m━━━━━━━━━━━━━━━━━━━━━━━━━━━━━━━━━━━━━━━━\u001b[0m \u001b[32m66.2/66.2 kB\u001b[0m \u001b[31m7.1 MB/s\u001b[0m eta \u001b[36m0:00:00\u001b[0m\n",
            "\u001b[?25hCollecting cirq-web==1.3.0 (from cirq<1.4.0,>=1.0.0->mitiq)\n",
            "  Downloading cirq_web-1.3.0-py3-none-any.whl (596 kB)\n",
            "\u001b[2K     \u001b[90m━━━━━━━━━━━━━━━━━━━━━━━━━━━━━━━━━━━━━━━━\u001b[0m \u001b[32m596.5/596.5 kB\u001b[0m \u001b[31m52.4 MB/s\u001b[0m eta \u001b[36m0:00:00\u001b[0m\n",
            "\u001b[?25hRequirement already satisfied: requests~=2.18 in /usr/local/lib/python3.10/dist-packages (from cirq-aqt==1.3.0->cirq<1.4.0,>=1.0.0->mitiq) (2.31.0)\n",
            "Collecting duet~=0.2.8 (from cirq-core==1.3.0->cirq<1.4.0,>=1.0.0->mitiq)\n",
            "  Downloading duet-0.2.9-py3-none-any.whl (29 kB)\n",
            "Requirement already satisfied: matplotlib~=3.0 in /usr/local/lib/python3.10/dist-packages (from cirq-core==1.3.0->cirq<1.4.0,>=1.0.0->mitiq) (3.7.1)\n",
            "Requirement already satisfied: networkx>=2.4 in /usr/local/lib/python3.10/dist-packages (from cirq-core==1.3.0->cirq<1.4.0,>=1.0.0->mitiq) (3.2.1)\n",
            "Requirement already satisfied: pandas in /usr/local/lib/python3.10/dist-packages (from cirq-core==1.3.0->cirq<1.4.0,>=1.0.0->mitiq) (1.5.3)\n",
            "Requirement already satisfied: sortedcontainers~=2.0 in /usr/local/lib/python3.10/dist-packages (from cirq-core==1.3.0->cirq<1.4.0,>=1.0.0->mitiq) (2.4.0)\n",
            "Requirement already satisfied: sympy in /usr/local/lib/python3.10/dist-packages (from cirq-core==1.3.0->cirq<1.4.0,>=1.0.0->mitiq) (1.12)\n",
            "Requirement already satisfied: typing-extensions>=4.2 in /usr/local/lib/python3.10/dist-packages (from cirq-core==1.3.0->cirq<1.4.0,>=1.0.0->mitiq) (4.10.0)\n",
            "Requirement already satisfied: tqdm in /usr/local/lib/python3.10/dist-packages (from cirq-core==1.3.0->cirq<1.4.0,>=1.0.0->mitiq) (4.66.2)\n",
            "Requirement already satisfied: attrs in /usr/local/lib/python3.10/dist-packages (from cirq-ft==1.3.0->cirq<1.4.0,>=1.0.0->mitiq) (23.2.0)\n",
            "Requirement already satisfied: cachetools>=5.3 in /usr/local/lib/python3.10/dist-packages (from cirq-ft==1.3.0->cirq<1.4.0,>=1.0.0->mitiq) (5.3.3)\n",
            "Requirement already satisfied: ipywidgets in /usr/local/lib/python3.10/dist-packages (from cirq-ft==1.3.0->cirq<1.4.0,>=1.0.0->mitiq) (7.7.1)\n",
            "Requirement already satisfied: nbconvert in /usr/local/lib/python3.10/dist-packages (from cirq-ft==1.3.0->cirq<1.4.0,>=1.0.0->mitiq) (6.5.4)\n",
            "Requirement already satisfied: nbformat in /usr/local/lib/python3.10/dist-packages (from cirq-ft==1.3.0->cirq<1.4.0,>=1.0.0->mitiq) (5.10.2)\n",
            "Requirement already satisfied: google-api-core[grpc]>=1.14.0 in /usr/local/lib/python3.10/dist-packages (from cirq-google==1.3.0->cirq<1.4.0,>=1.0.0->mitiq) (2.11.1)\n",
            "Requirement already satisfied: proto-plus>=1.20.0 in /usr/local/lib/python3.10/dist-packages (from cirq-google==1.3.0->cirq<1.4.0,>=1.0.0->mitiq) (1.23.0)\n",
            "Requirement already satisfied: protobuf>=3.15.0 in /usr/local/lib/python3.10/dist-packages (from cirq-google==1.3.0->cirq<1.4.0,>=1.0.0->mitiq) (3.20.3)\n",
            "Collecting pyquil<4.0.0,>=3.2.0 (from cirq-rigetti==1.3.0->cirq<1.4.0,>=1.0.0->mitiq)\n",
            "  Downloading pyquil-3.5.4-py3-none-any.whl (223 kB)\n",
            "\u001b[2K     \u001b[90m━━━━━━━━━━━━━━━━━━━━━━━━━━━━━━━━━━━━━━━━\u001b[0m \u001b[32m223.8/223.8 kB\u001b[0m \u001b[31m27.2 MB/s\u001b[0m eta \u001b[36m0:00:00\u001b[0m\n",
            "\u001b[?25hRequirement already satisfied: googleapis-common-protos<2.0.dev0,>=1.56.2 in /usr/local/lib/python3.10/dist-packages (from google-api-core[grpc]>=1.14.0->cirq-google==1.3.0->cirq<1.4.0,>=1.0.0->mitiq) (1.63.0)\n",
            "Requirement already satisfied: google-auth<3.0.dev0,>=2.14.1 in /usr/local/lib/python3.10/dist-packages (from google-api-core[grpc]>=1.14.0->cirq-google==1.3.0->cirq<1.4.0,>=1.0.0->mitiq) (2.27.0)\n",
            "Requirement already satisfied: grpcio<2.0dev,>=1.33.2 in /usr/local/lib/python3.10/dist-packages (from google-api-core[grpc]>=1.14.0->cirq-google==1.3.0->cirq<1.4.0,>=1.0.0->mitiq) (1.62.1)\n",
            "Requirement already satisfied: grpcio-status<2.0.dev0,>=1.33.2 in /usr/local/lib/python3.10/dist-packages (from google-api-core[grpc]>=1.14.0->cirq-google==1.3.0->cirq<1.4.0,>=1.0.0->mitiq) (1.48.2)\n",
            "Requirement already satisfied: contourpy>=1.0.1 in /usr/local/lib/python3.10/dist-packages (from matplotlib~=3.0->cirq-core==1.3.0->cirq<1.4.0,>=1.0.0->mitiq) (1.2.0)\n",
            "Requirement already satisfied: cycler>=0.10 in /usr/local/lib/python3.10/dist-packages (from matplotlib~=3.0->cirq-core==1.3.0->cirq<1.4.0,>=1.0.0->mitiq) (0.12.1)\n",
            "Requirement already satisfied: fonttools>=4.22.0 in /usr/local/lib/python3.10/dist-packages (from matplotlib~=3.0->cirq-core==1.3.0->cirq<1.4.0,>=1.0.0->mitiq) (4.49.0)\n",
            "Requirement already satisfied: kiwisolver>=1.0.1 in /usr/local/lib/python3.10/dist-packages (from matplotlib~=3.0->cirq-core==1.3.0->cirq<1.4.0,>=1.0.0->mitiq) (1.4.5)\n",
            "Requirement already satisfied: packaging>=20.0 in /usr/local/lib/python3.10/dist-packages (from matplotlib~=3.0->cirq-core==1.3.0->cirq<1.4.0,>=1.0.0->mitiq) (24.0)\n",
            "Requirement already satisfied: pillow>=6.2.0 in /usr/local/lib/python3.10/dist-packages (from matplotlib~=3.0->cirq-core==1.3.0->cirq<1.4.0,>=1.0.0->mitiq) (9.4.0)\n",
            "Requirement already satisfied: pyparsing>=2.3.1 in /usr/local/lib/python3.10/dist-packages (from matplotlib~=3.0->cirq-core==1.3.0->cirq<1.4.0,>=1.0.0->mitiq) (3.1.2)\n",
            "Requirement already satisfied: python-dateutil>=2.7 in /usr/local/lib/python3.10/dist-packages (from matplotlib~=3.0->cirq-core==1.3.0->cirq<1.4.0,>=1.0.0->mitiq) (2.8.2)\n",
            "Collecting deprecated<2.0.0,>=1.2.13 (from pyquil<4.0.0,>=3.2.0->cirq-rigetti==1.3.0->cirq<1.4.0,>=1.0.0->mitiq)\n",
            "  Downloading Deprecated-1.2.14-py2.py3-none-any.whl (9.6 kB)\n",
            "Collecting lark<0.12.0,>=0.11.1 (from pyquil<4.0.0,>=3.2.0->cirq-rigetti==1.3.0->cirq<1.4.0,>=1.0.0->mitiq)\n",
            "  Downloading lark-0.11.3.tar.gz (229 kB)\n",
            "\u001b[2K     \u001b[90m━━━━━━━━━━━━━━━━━━━━━━━━━━━━━━━━━━━━━━━━\u001b[0m \u001b[32m229.9/229.9 kB\u001b[0m \u001b[31m28.4 MB/s\u001b[0m eta \u001b[36m0:00:00\u001b[0m\n",
            "\u001b[?25h  Preparing metadata (setup.py) ... \u001b[?25l\u001b[?25hdone\n",
            "Collecting qcs-api-client<0.22.0,>=0.21.0 (from pyquil<4.0.0,>=3.2.0->cirq-rigetti==1.3.0->cirq<1.4.0,>=1.0.0->mitiq)\n",
            "  Downloading qcs_api_client-0.21.6-py3-none-any.whl (151 kB)\n",
            "\u001b[2K     \u001b[90m━━━━━━━━━━━━━━━━━━━━━━━━━━━━━━━━━━━━━━━━\u001b[0m \u001b[32m151.7/151.7 kB\u001b[0m \u001b[31m22.1 MB/s\u001b[0m eta \u001b[36m0:00:00\u001b[0m\n",
            "\u001b[?25hCollecting rpcq<4.0.0,>=3.10.0 (from pyquil<4.0.0,>=3.2.0->cirq-rigetti==1.3.0->cirq<1.4.0,>=1.0.0->mitiq)\n",
            "  Downloading rpcq-3.11.0.tar.gz (45 kB)\n",
            "\u001b[2K     \u001b[90m━━━━━━━━━━━━━━━━━━━━━━━━━━━━━━━━━━━━━━━━\u001b[0m \u001b[32m45.6/45.6 kB\u001b[0m \u001b[31m5.9 MB/s\u001b[0m eta \u001b[36m0:00:00\u001b[0m\n",
            "\u001b[?25h  Preparing metadata (setup.py) ... \u001b[?25l\u001b[?25hdone\n",
            "Requirement already satisfied: tenacity<9.0.0,>=8.2.2 in /usr/local/lib/python3.10/dist-packages (from pyquil<4.0.0,>=3.2.0->cirq-rigetti==1.3.0->cirq<1.4.0,>=1.0.0->mitiq) (8.2.3)\n",
            "Collecting types-deprecated<2.0.0.0,>=1.2.9.2 (from pyquil<4.0.0,>=3.2.0->cirq-rigetti==1.3.0->cirq<1.4.0,>=1.0.0->mitiq)\n",
            "  Downloading types_Deprecated-1.2.9.20240311-py3-none-any.whl (3.5 kB)\n",
            "Collecting types-python-dateutil<3.0.0,>=2.8.19 (from pyquil<4.0.0,>=3.2.0->cirq-rigetti==1.3.0->cirq<1.4.0,>=1.0.0->mitiq)\n",
            "  Downloading types_python_dateutil-2.9.0.20240316-py3-none-any.whl (9.7 kB)\n",
            "Collecting types-retry<0.10.0,>=0.9.9 (from pyquil<4.0.0,>=3.2.0->cirq-rigetti==1.3.0->cirq<1.4.0,>=1.0.0->mitiq)\n",
            "  Downloading types_retry-0.9.9.4-py3-none-any.whl (2.5 kB)\n",
            "Requirement already satisfied: charset-normalizer<4,>=2 in /usr/local/lib/python3.10/dist-packages (from requests~=2.18->cirq-aqt==1.3.0->cirq<1.4.0,>=1.0.0->mitiq) (3.3.2)\n",
            "Requirement already satisfied: idna<4,>=2.5 in /usr/local/lib/python3.10/dist-packages (from requests~=2.18->cirq-aqt==1.3.0->cirq<1.4.0,>=1.0.0->mitiq) (3.6)\n",
            "Requirement already satisfied: urllib3<3,>=1.21.1 in /usr/local/lib/python3.10/dist-packages (from requests~=2.18->cirq-aqt==1.3.0->cirq<1.4.0,>=1.0.0->mitiq) (2.2.1)\n",
            "Requirement already satisfied: certifi>=2017.4.17 in /usr/local/lib/python3.10/dist-packages (from requests~=2.18->cirq-aqt==1.3.0->cirq<1.4.0,>=1.0.0->mitiq) (2024.2.2)\n",
            "Requirement already satisfied: ipykernel>=4.5.1 in /usr/local/lib/python3.10/dist-packages (from ipywidgets->cirq-ft==1.3.0->cirq<1.4.0,>=1.0.0->mitiq) (5.5.6)\n",
            "Requirement already satisfied: ipython-genutils~=0.2.0 in /usr/local/lib/python3.10/dist-packages (from ipywidgets->cirq-ft==1.3.0->cirq<1.4.0,>=1.0.0->mitiq) (0.2.0)\n",
            "Requirement already satisfied: traitlets>=4.3.1 in /usr/local/lib/python3.10/dist-packages (from ipywidgets->cirq-ft==1.3.0->cirq<1.4.0,>=1.0.0->mitiq) (5.7.1)\n",
            "Requirement already satisfied: widgetsnbextension~=3.6.0 in /usr/local/lib/python3.10/dist-packages (from ipywidgets->cirq-ft==1.3.0->cirq<1.4.0,>=1.0.0->mitiq) (3.6.6)\n",
            "Requirement already satisfied: ipython>=4.0.0 in /usr/local/lib/python3.10/dist-packages (from ipywidgets->cirq-ft==1.3.0->cirq<1.4.0,>=1.0.0->mitiq) (7.34.0)\n",
            "Requirement already satisfied: jupyterlab-widgets>=1.0.0 in /usr/local/lib/python3.10/dist-packages (from ipywidgets->cirq-ft==1.3.0->cirq<1.4.0,>=1.0.0->mitiq) (3.0.10)\n",
            "Requirement already satisfied: lxml in /usr/local/lib/python3.10/dist-packages (from nbconvert->cirq-ft==1.3.0->cirq<1.4.0,>=1.0.0->mitiq) (4.9.4)\n",
            "Requirement already satisfied: beautifulsoup4 in /usr/local/lib/python3.10/dist-packages (from nbconvert->cirq-ft==1.3.0->cirq<1.4.0,>=1.0.0->mitiq) (4.12.3)\n",
            "Requirement already satisfied: bleach in /usr/local/lib/python3.10/dist-packages (from nbconvert->cirq-ft==1.3.0->cirq<1.4.0,>=1.0.0->mitiq) (6.1.0)\n",
            "Requirement already satisfied: defusedxml in /usr/local/lib/python3.10/dist-packages (from nbconvert->cirq-ft==1.3.0->cirq<1.4.0,>=1.0.0->mitiq) (0.7.1)\n",
            "Requirement already satisfied: entrypoints>=0.2.2 in /usr/local/lib/python3.10/dist-packages (from nbconvert->cirq-ft==1.3.0->cirq<1.4.0,>=1.0.0->mitiq) (0.4)\n",
            "Requirement already satisfied: jinja2>=3.0 in /usr/local/lib/python3.10/dist-packages (from nbconvert->cirq-ft==1.3.0->cirq<1.4.0,>=1.0.0->mitiq) (3.1.3)\n",
            "Requirement already satisfied: jupyter-core>=4.7 in /usr/local/lib/python3.10/dist-packages (from nbconvert->cirq-ft==1.3.0->cirq<1.4.0,>=1.0.0->mitiq) (5.7.2)\n",
            "Requirement already satisfied: jupyterlab-pygments in /usr/local/lib/python3.10/dist-packages (from nbconvert->cirq-ft==1.3.0->cirq<1.4.0,>=1.0.0->mitiq) (0.3.0)\n",
            "Requirement already satisfied: MarkupSafe>=2.0 in /usr/local/lib/python3.10/dist-packages (from nbconvert->cirq-ft==1.3.0->cirq<1.4.0,>=1.0.0->mitiq) (2.1.5)\n",
            "Requirement already satisfied: mistune<2,>=0.8.1 in /usr/local/lib/python3.10/dist-packages (from nbconvert->cirq-ft==1.3.0->cirq<1.4.0,>=1.0.0->mitiq) (0.8.4)\n",
            "Requirement already satisfied: nbclient>=0.5.0 in /usr/local/lib/python3.10/dist-packages (from nbconvert->cirq-ft==1.3.0->cirq<1.4.0,>=1.0.0->mitiq) (0.10.0)\n",
            "Requirement already satisfied: pandocfilters>=1.4.1 in /usr/local/lib/python3.10/dist-packages (from nbconvert->cirq-ft==1.3.0->cirq<1.4.0,>=1.0.0->mitiq) (1.5.1)\n",
            "Requirement already satisfied: pygments>=2.4.1 in /usr/local/lib/python3.10/dist-packages (from nbconvert->cirq-ft==1.3.0->cirq<1.4.0,>=1.0.0->mitiq) (2.16.1)\n",
            "Requirement already satisfied: tinycss2 in /usr/local/lib/python3.10/dist-packages (from nbconvert->cirq-ft==1.3.0->cirq<1.4.0,>=1.0.0->mitiq) (1.2.1)\n",
            "Requirement already satisfied: fastjsonschema in /usr/local/lib/python3.10/dist-packages (from nbformat->cirq-ft==1.3.0->cirq<1.4.0,>=1.0.0->mitiq) (2.19.1)\n",
            "Requirement already satisfied: jsonschema>=2.6 in /usr/local/lib/python3.10/dist-packages (from nbformat->cirq-ft==1.3.0->cirq<1.4.0,>=1.0.0->mitiq) (4.19.2)\n",
            "Requirement already satisfied: pytz>=2020.1 in /usr/local/lib/python3.10/dist-packages (from pandas->cirq-core==1.3.0->cirq<1.4.0,>=1.0.0->mitiq) (2023.4)\n",
            "Requirement already satisfied: mpmath>=0.19 in /usr/local/lib/python3.10/dist-packages (from sympy->cirq-core==1.3.0->cirq<1.4.0,>=1.0.0->mitiq) (1.3.0)\n",
            "Requirement already satisfied: wrapt<2,>=1.10 in /usr/local/lib/python3.10/dist-packages (from deprecated<2.0.0,>=1.2.13->pyquil<4.0.0,>=3.2.0->cirq-rigetti==1.3.0->cirq<1.4.0,>=1.0.0->mitiq) (1.14.1)\n",
            "Requirement already satisfied: pyasn1-modules>=0.2.1 in /usr/local/lib/python3.10/dist-packages (from google-auth<3.0.dev0,>=2.14.1->google-api-core[grpc]>=1.14.0->cirq-google==1.3.0->cirq<1.4.0,>=1.0.0->mitiq) (0.3.0)\n",
            "Requirement already satisfied: rsa<5,>=3.1.4 in /usr/local/lib/python3.10/dist-packages (from google-auth<3.0.dev0,>=2.14.1->google-api-core[grpc]>=1.14.0->cirq-google==1.3.0->cirq<1.4.0,>=1.0.0->mitiq) (4.9)\n",
            "Requirement already satisfied: jupyter-client in /usr/local/lib/python3.10/dist-packages (from ipykernel>=4.5.1->ipywidgets->cirq-ft==1.3.0->cirq<1.4.0,>=1.0.0->mitiq) (6.1.12)\n",
            "Requirement already satisfied: tornado>=4.2 in /usr/local/lib/python3.10/dist-packages (from ipykernel>=4.5.1->ipywidgets->cirq-ft==1.3.0->cirq<1.4.0,>=1.0.0->mitiq) (6.3.3)\n",
            "Requirement already satisfied: setuptools>=18.5 in /usr/local/lib/python3.10/dist-packages (from ipython>=4.0.0->ipywidgets->cirq-ft==1.3.0->cirq<1.4.0,>=1.0.0->mitiq) (67.7.2)\n",
            "Collecting jedi>=0.16 (from ipython>=4.0.0->ipywidgets->cirq-ft==1.3.0->cirq<1.4.0,>=1.0.0->mitiq)\n",
            "  Downloading jedi-0.19.1-py2.py3-none-any.whl (1.6 MB)\n",
            "\u001b[2K     \u001b[90m━━━━━━━━━━━━━━━━━━━━━━━━━━━━━━━━━━━━━━━━\u001b[0m \u001b[32m1.6/1.6 MB\u001b[0m \u001b[31m77.4 MB/s\u001b[0m eta \u001b[36m0:00:00\u001b[0m\n",
            "\u001b[?25hRequirement already satisfied: decorator in /usr/local/lib/python3.10/dist-packages (from ipython>=4.0.0->ipywidgets->cirq-ft==1.3.0->cirq<1.4.0,>=1.0.0->mitiq) (4.4.2)\n",
            "Requirement already satisfied: pickleshare in /usr/local/lib/python3.10/dist-packages (from ipython>=4.0.0->ipywidgets->cirq-ft==1.3.0->cirq<1.4.0,>=1.0.0->mitiq) (0.7.5)\n",
            "Requirement already satisfied: prompt-toolkit!=3.0.0,!=3.0.1,<3.1.0,>=2.0.0 in /usr/local/lib/python3.10/dist-packages (from ipython>=4.0.0->ipywidgets->cirq-ft==1.3.0->cirq<1.4.0,>=1.0.0->mitiq) (3.0.43)\n",
            "Requirement already satisfied: backcall in /usr/local/lib/python3.10/dist-packages (from ipython>=4.0.0->ipywidgets->cirq-ft==1.3.0->cirq<1.4.0,>=1.0.0->mitiq) (0.2.0)\n",
            "Requirement already satisfied: matplotlib-inline in /usr/local/lib/python3.10/dist-packages (from ipython>=4.0.0->ipywidgets->cirq-ft==1.3.0->cirq<1.4.0,>=1.0.0->mitiq) (0.1.6)\n",
            "Requirement already satisfied: pexpect>4.3 in /usr/local/lib/python3.10/dist-packages (from ipython>=4.0.0->ipywidgets->cirq-ft==1.3.0->cirq<1.4.0,>=1.0.0->mitiq) (4.9.0)\n",
            "Requirement already satisfied: jsonschema-specifications>=2023.03.6 in /usr/local/lib/python3.10/dist-packages (from jsonschema>=2.6->nbformat->cirq-ft==1.3.0->cirq<1.4.0,>=1.0.0->mitiq) (2023.12.1)\n",
            "Requirement already satisfied: referencing>=0.28.4 in /usr/local/lib/python3.10/dist-packages (from jsonschema>=2.6->nbformat->cirq-ft==1.3.0->cirq<1.4.0,>=1.0.0->mitiq) (0.33.0)\n",
            "Requirement already satisfied: rpds-py>=0.7.1 in /usr/local/lib/python3.10/dist-packages (from jsonschema>=2.6->nbformat->cirq-ft==1.3.0->cirq<1.4.0,>=1.0.0->mitiq) (0.18.0)\n",
            "Requirement already satisfied: platformdirs>=2.5 in /usr/local/lib/python3.10/dist-packages (from jupyter-core>=4.7->nbconvert->cirq-ft==1.3.0->cirq<1.4.0,>=1.0.0->mitiq) (4.2.0)\n",
            "Requirement already satisfied: six>=1.5 in /usr/local/lib/python3.10/dist-packages (from python-dateutil>=2.7->matplotlib~=3.0->cirq-core==1.3.0->cirq<1.4.0,>=1.0.0->mitiq) (1.16.0)\n",
            "Requirement already satisfied: PyJWT<3.0.0,>=2.4.0 in /usr/local/lib/python3.10/dist-packages (from qcs-api-client<0.22.0,>=0.21.0->pyquil<4.0.0,>=3.2.0->cirq-rigetti==1.3.0->cirq<1.4.0,>=1.0.0->mitiq) (2.8.0)\n",
            "INFO: pip is looking at multiple versions of qcs-api-client to determine which version is compatible with other requirements. This could take a while.\n",
            "Collecting qcs-api-client<0.22.0,>=0.21.0 (from pyquil<4.0.0,>=3.2.0->cirq-rigetti==1.3.0->cirq<1.4.0,>=1.0.0->mitiq)\n",
            "  Downloading qcs_api_client-0.21.5-py3-none-any.whl (151 kB)\n",
            "\u001b[2K     \u001b[90m━━━━━━━━━━━━━━━━━━━━━━━━━━━━━━━━━━━━━━━━\u001b[0m \u001b[32m151.7/151.7 kB\u001b[0m \u001b[31m21.0 MB/s\u001b[0m eta \u001b[36m0:00:00\u001b[0m\n",
            "\u001b[?25h  Downloading qcs_api_client-0.21.4-py3-none-any.whl (151 kB)\n",
            "\u001b[2K     \u001b[90m━━━━━━━━━━━━━━━━━━━━━━━━━━━━━━━━━━━━━━━━\u001b[0m \u001b[32m151.7/151.7 kB\u001b[0m \u001b[31m21.5 MB/s\u001b[0m eta \u001b[36m0:00:00\u001b[0m\n",
            "\u001b[?25h  Downloading qcs_api_client-0.21.3-py3-none-any.whl (147 kB)\n",
            "\u001b[2K     \u001b[90m━━━━━━━━━━━━━━━━━━━━━━━━━━━━━━━━━━━━━━━━\u001b[0m \u001b[32m147.4/147.4 kB\u001b[0m \u001b[31m21.6 MB/s\u001b[0m eta \u001b[36m0:00:00\u001b[0m\n",
            "\u001b[?25h  Downloading qcs_api_client-0.21.2-py3-none-any.whl (147 kB)\n",
            "\u001b[2K     \u001b[90m━━━━━━━━━━━━━━━━━━━━━━━━━━━━━━━━━━━━━━━━\u001b[0m \u001b[32m147.4/147.4 kB\u001b[0m \u001b[31m17.3 MB/s\u001b[0m eta \u001b[36m0:00:00\u001b[0m\n",
            "\u001b[?25h  Downloading qcs_api_client-0.21.1-py3-none-any.whl (147 kB)\n",
            "\u001b[2K     \u001b[90m━━━━━━━━━━━━━━━━━━━━━━━━━━━━━━━━━━━━━━━━\u001b[0m \u001b[32m147.4/147.4 kB\u001b[0m \u001b[31m18.7 MB/s\u001b[0m eta \u001b[36m0:00:00\u001b[0m\n",
            "\u001b[?25h  Downloading qcs_api_client-0.21.0-py3-none-any.whl (142 kB)\n",
            "\u001b[2K     \u001b[90m━━━━━━━━━━━━━━━━━━━━━━━━━━━━━━━━━━━━━━━━\u001b[0m \u001b[32m142.7/142.7 kB\u001b[0m \u001b[31m19.5 MB/s\u001b[0m eta \u001b[36m0:00:00\u001b[0m\n",
            "\u001b[?25hCollecting jsonschema>=2.6 (from nbformat->cirq-ft==1.3.0->cirq<1.4.0,>=1.0.0->mitiq)\n",
            "  Downloading jsonschema-4.21.1-py3-none-any.whl (85 kB)\n",
            "\u001b[2K     \u001b[90m━━━━━━━━━━━━━━━━━━━━━━━━━━━━━━━━━━━━━━━━\u001b[0m \u001b[32m85.5/85.5 kB\u001b[0m \u001b[31m14.2 MB/s\u001b[0m eta \u001b[36m0:00:00\u001b[0m\n",
            "\u001b[?25hINFO: pip is looking at multiple versions of qcs-api-client to determine which version is compatible with other requirements. This could take a while.\n",
            "INFO: This is taking longer than usual. You might need to provide the dependency resolver with stricter constraints to reduce runtime. See https://pip.pypa.io/warnings/backtracking for guidance. If you want to abort this run, press Ctrl + C.\n",
            "  Downloading jsonschema-4.21.0-py3-none-any.whl (85 kB)\n",
            "\u001b[2K     \u001b[90m━━━━━━━━━━━━━━━━━━━━━━━━━━━━━━━━━━━━━━━━\u001b[0m \u001b[32m85.1/85.1 kB\u001b[0m \u001b[31m11.2 MB/s\u001b[0m eta \u001b[36m0:00:00\u001b[0m\n",
            "\u001b[?25h  Downloading jsonschema-4.20.0-py3-none-any.whl (84 kB)\n",
            "\u001b[2K     \u001b[90m━━━━━━━━━━━━━━━━━━━━━━━━━━━━━━━━━━━━━━━━\u001b[0m \u001b[32m84.7/84.7 kB\u001b[0m \u001b[31m12.0 MB/s\u001b[0m eta \u001b[36m0:00:00\u001b[0m\n",
            "\u001b[?25h  Downloading jsonschema-4.19.2-py3-none-any.whl (83 kB)\n",
            "\u001b[2K     \u001b[90m━━━━━━━━━━━━━━━━━━━━━━━━━━━━━━━━━━━━━━━━\u001b[0m \u001b[32m83.6/83.6 kB\u001b[0m \u001b[31m11.9 MB/s\u001b[0m eta \u001b[36m0:00:00\u001b[0m\n",
            "\u001b[?25h  Downloading jsonschema-4.19.1-py3-none-any.whl (83 kB)\n",
            "\u001b[2K     \u001b[90m━━━━━━━━━━━━━━━━━━━━━━━━━━━━━━━━━━━━━━━━\u001b[0m \u001b[32m83.3/83.3 kB\u001b[0m \u001b[31m11.6 MB/s\u001b[0m eta \u001b[36m0:00:00\u001b[0m\n",
            "\u001b[?25h  Downloading jsonschema-4.19.0-py3-none-any.whl (83 kB)\n",
            "\u001b[2K     \u001b[90m━━━━━━━━━━━━━━━━━━━━━━━━━━━━━━━━━━━━━━━━\u001b[0m \u001b[32m83.4/83.4 kB\u001b[0m \u001b[31m13.0 MB/s\u001b[0m eta \u001b[36m0:00:00\u001b[0m\n",
            "\u001b[?25h  Downloading jsonschema-4.18.6-py3-none-any.whl (83 kB)\n",
            "\u001b[2K     \u001b[90m━━━━━━━━━━━━━━━━━━━━━━━━━━━━━━━━━━━━━━━━\u001b[0m \u001b[32m83.2/83.2 kB\u001b[0m \u001b[31m11.3 MB/s\u001b[0m eta \u001b[36m0:00:00\u001b[0m\n",
            "\u001b[?25h  Downloading jsonschema-4.18.5-py3-none-any.whl (82 kB)\n",
            "\u001b[2K     \u001b[90m━━━━━━━━━━━━━━━━━━━━━━━━━━━━━━━━━━━━━━━━\u001b[0m \u001b[32m82.5/82.5 kB\u001b[0m \u001b[31m12.1 MB/s\u001b[0m eta \u001b[36m0:00:00\u001b[0m\n",
            "\u001b[?25h  Downloading jsonschema-4.18.4-py3-none-any.whl (80 kB)\n",
            "\u001b[2K     \u001b[90m━━━━━━━━━━━━━━━━━━━━━━━━━━━━━━━━━━━━━━━━\u001b[0m \u001b[32m81.0/81.0 kB\u001b[0m \u001b[31m11.2 MB/s\u001b[0m eta \u001b[36m0:00:00\u001b[0m\n",
            "\u001b[?25h  Downloading jsonschema-4.18.3-py3-none-any.whl (80 kB)\n",
            "\u001b[2K     \u001b[90m━━━━━━━━━━━━━━━━━━━━━━━━━━━━━━━━━━━━━━━━\u001b[0m \u001b[32m81.0/81.0 kB\u001b[0m \u001b[31m11.8 MB/s\u001b[0m eta \u001b[36m0:00:00\u001b[0m\n",
            "\u001b[?25h  Downloading jsonschema-4.18.2-py3-none-any.whl (80 kB)\n",
            "\u001b[2K     \u001b[90m━━━━━━━━━━━━━━━━━━━━━━━━━━━━━━━━━━━━━━━━\u001b[0m \u001b[32m80.8/80.8 kB\u001b[0m \u001b[31m11.1 MB/s\u001b[0m eta \u001b[36m0:00:00\u001b[0m\n",
            "\u001b[?25h  Downloading jsonschema-4.18.1-py3-none-any.whl (80 kB)\n",
            "\u001b[2K     \u001b[90m━━━━━━━━━━━━━━━━━━━━━━━━━━━━━━━━━━━━━━━━\u001b[0m \u001b[32m80.7/80.7 kB\u001b[0m \u001b[31m12.8 MB/s\u001b[0m eta \u001b[36m0:00:00\u001b[0m\n",
            "\u001b[?25h  Downloading jsonschema-4.18.0-py3-none-any.whl (81 kB)\n",
            "\u001b[2K     \u001b[90m━━━━━━━━━━━━━━━━━━━━━━━━━━━━━━━━━━━━━━━━\u001b[0m \u001b[32m81.5/81.5 kB\u001b[0m \u001b[31m11.0 MB/s\u001b[0m eta \u001b[36m0:00:00\u001b[0m\n",
            "\u001b[?25h  Downloading jsonschema-4.17.3-py3-none-any.whl (90 kB)\n",
            "\u001b[2K     \u001b[90m━━━━━━━━━━━━━━━━━━━━━━━━━━━━━━━━━━━━━━━━\u001b[0m \u001b[32m90.4/90.4 kB\u001b[0m \u001b[31m13.0 MB/s\u001b[0m eta \u001b[36m0:00:00\u001b[0m\n",
            "\u001b[?25hCollecting pyrsistent!=0.17.0,!=0.17.1,!=0.17.2,>=0.14.0 (from jsonschema>=2.6->nbformat->cirq-ft==1.3.0->cirq<1.4.0,>=1.0.0->mitiq)\n",
            "  Downloading pyrsistent-0.20.0-cp310-cp310-manylinux_2_17_x86_64.manylinux2014_x86_64.whl (117 kB)\n",
            "\u001b[2K     \u001b[90m━━━━━━━━━━━━━━━━━━━━━━━━━━━━━━━━━━━━━━━━\u001b[0m \u001b[32m117.7/117.7 kB\u001b[0m \u001b[31m17.6 MB/s\u001b[0m eta \u001b[36m0:00:00\u001b[0m\n",
            "\u001b[?25hCollecting attrs (from cirq-ft==1.3.0->cirq<1.4.0,>=1.0.0->mitiq)\n",
            "  Downloading attrs-21.4.0-py2.py3-none-any.whl (60 kB)\n",
            "\u001b[2K     \u001b[90m━━━━━━━━━━━━━━━━━━━━━━━━━━━━━━━━━━━━━━━━\u001b[0m \u001b[32m60.6/60.6 kB\u001b[0m \u001b[31m8.5 MB/s\u001b[0m eta \u001b[36m0:00:00\u001b[0m\n",
            "\u001b[?25hCollecting httpx<0.24.0,>=0.23.0 (from qcs-api-client<0.22.0,>=0.21.0->pyquil<4.0.0,>=3.2.0->cirq-rigetti==1.3.0->cirq<1.4.0,>=1.0.0->mitiq)\n",
            "  Downloading httpx-0.23.3-py3-none-any.whl (71 kB)\n",
            "\u001b[2K     \u001b[90m━━━━━━━━━━━━━━━━━━━━━━━━━━━━━━━━━━━━━━━━\u001b[0m \u001b[32m71.5/71.5 kB\u001b[0m \u001b[31m11.7 MB/s\u001b[0m eta \u001b[36m0:00:00\u001b[0m\n",
            "\u001b[?25hCollecting iso8601<2.0.0,>=1.0.2 (from qcs-api-client<0.22.0,>=0.21.0->pyquil<4.0.0,>=3.2.0->cirq-rigetti==1.3.0->cirq<1.4.0,>=1.0.0->mitiq)\n",
            "  Downloading iso8601-1.1.0-py3-none-any.whl (9.9 kB)\n",
            "Collecting pydantic<2.0.0,>=1.7.2 (from qcs-api-client<0.22.0,>=0.21.0->pyquil<4.0.0,>=3.2.0->cirq-rigetti==1.3.0->cirq<1.4.0,>=1.0.0->mitiq)\n",
            "  Downloading pydantic-1.10.14-cp310-cp310-manylinux_2_17_x86_64.manylinux2014_x86_64.whl (3.1 MB)\n",
            "\u001b[2K     \u001b[90m━━━━━━━━━━━━━━━━━━━━━━━━━━━━━━━━━━━━━━━━\u001b[0m \u001b[32m3.1/3.1 MB\u001b[0m \u001b[31m78.4 MB/s\u001b[0m eta \u001b[36m0:00:00\u001b[0m\n",
            "\u001b[?25hCollecting retrying<2.0.0,>=1.3.3 (from qcs-api-client<0.22.0,>=0.21.0->pyquil<4.0.0,>=3.2.0->cirq-rigetti==1.3.0->cirq<1.4.0,>=1.0.0->mitiq)\n",
            "  Downloading retrying-1.3.4-py3-none-any.whl (11 kB)\n",
            "Collecting rfc3339<7.0,>=6.2 (from qcs-api-client<0.22.0,>=0.21.0->pyquil<4.0.0,>=3.2.0->cirq-rigetti==1.3.0->cirq<1.4.0,>=1.0.0->mitiq)\n",
            "  Downloading rfc3339-6.2-py3-none-any.whl (5.5 kB)\n",
            "Requirement already satisfied: toml<0.11.0,>=0.10.2 in /usr/local/lib/python3.10/dist-packages (from qcs-api-client<0.22.0,>=0.21.0->pyquil<4.0.0,>=3.2.0->cirq-rigetti==1.3.0->cirq<1.4.0,>=1.0.0->mitiq) (0.10.2)\n",
            "Requirement already satisfied: msgpack<2.0,>=0.6 in /usr/local/lib/python3.10/dist-packages (from rpcq<4.0.0,>=3.10.0->pyquil<4.0.0,>=3.2.0->cirq-rigetti==1.3.0->cirq<1.4.0,>=1.0.0->mitiq) (1.0.8)\n",
            "Collecting python-rapidjson (from rpcq<4.0.0,>=3.10.0->pyquil<4.0.0,>=3.2.0->cirq-rigetti==1.3.0->cirq<1.4.0,>=1.0.0->mitiq)\n",
            "  Downloading python_rapidjson-1.16-cp310-cp310-manylinux_2_17_x86_64.manylinux2014_x86_64.whl (1.7 MB)\n",
            "\u001b[2K     \u001b[90m━━━━━━━━━━━━━━━━━━━━━━━━━━━━━━━━━━━━━━━━\u001b[0m \u001b[32m1.7/1.7 MB\u001b[0m \u001b[31m91.5 MB/s\u001b[0m eta \u001b[36m0:00:00\u001b[0m\n",
            "\u001b[?25hRequirement already satisfied: pyzmq>=17 in /usr/local/lib/python3.10/dist-packages (from rpcq<4.0.0,>=3.10.0->pyquil<4.0.0,>=3.2.0->cirq-rigetti==1.3.0->cirq<1.4.0,>=1.0.0->mitiq) (23.2.1)\n",
            "Collecting ruamel.yaml (from rpcq<4.0.0,>=3.10.0->pyquil<4.0.0,>=3.2.0->cirq-rigetti==1.3.0->cirq<1.4.0,>=1.0.0->mitiq)\n",
            "  Downloading ruamel.yaml-0.18.6-py3-none-any.whl (117 kB)\n",
            "\u001b[2K     \u001b[90m━━━━━━━━━━━━━━━━━━━━━━━━━━━━━━━━━━━━━━━━\u001b[0m \u001b[32m117.8/117.8 kB\u001b[0m \u001b[31m17.9 MB/s\u001b[0m eta \u001b[36m0:00:00\u001b[0m\n",
            "\u001b[?25hRequirement already satisfied: notebook>=4.4.1 in /usr/local/lib/python3.10/dist-packages (from widgetsnbextension~=3.6.0->ipywidgets->cirq-ft==1.3.0->cirq<1.4.0,>=1.0.0->mitiq) (6.5.5)\n",
            "Requirement already satisfied: soupsieve>1.2 in /usr/local/lib/python3.10/dist-packages (from beautifulsoup4->nbconvert->cirq-ft==1.3.0->cirq<1.4.0,>=1.0.0->mitiq) (2.5)\n",
            "Requirement already satisfied: webencodings in /usr/local/lib/python3.10/dist-packages (from bleach->nbconvert->cirq-ft==1.3.0->cirq<1.4.0,>=1.0.0->mitiq) (0.5.1)\n",
            "Collecting httpcore<0.17.0,>=0.15.0 (from httpx<0.24.0,>=0.23.0->qcs-api-client<0.22.0,>=0.21.0->pyquil<4.0.0,>=3.2.0->cirq-rigetti==1.3.0->cirq<1.4.0,>=1.0.0->mitiq)\n",
            "  Downloading httpcore-0.16.3-py3-none-any.whl (69 kB)\n",
            "\u001b[2K     \u001b[90m━━━━━━━━━━━━━━━━━━━━━━━━━━━━━━━━━━━━━━━━\u001b[0m \u001b[32m69.6/69.6 kB\u001b[0m \u001b[31m11.4 MB/s\u001b[0m eta \u001b[36m0:00:00\u001b[0m\n",
            "\u001b[?25hCollecting rfc3986[idna2008]<2,>=1.3 (from httpx<0.24.0,>=0.23.0->qcs-api-client<0.22.0,>=0.21.0->pyquil<4.0.0,>=3.2.0->cirq-rigetti==1.3.0->cirq<1.4.0,>=1.0.0->mitiq)\n",
            "  Downloading rfc3986-1.5.0-py2.py3-none-any.whl (31 kB)\n",
            "Requirement already satisfied: sniffio in /usr/local/lib/python3.10/dist-packages (from httpx<0.24.0,>=0.23.0->qcs-api-client<0.22.0,>=0.21.0->pyquil<4.0.0,>=3.2.0->cirq-rigetti==1.3.0->cirq<1.4.0,>=1.0.0->mitiq) (1.3.1)\n",
            "Requirement already satisfied: parso<0.9.0,>=0.8.3 in /usr/local/lib/python3.10/dist-packages (from jedi>=0.16->ipython>=4.0.0->ipywidgets->cirq-ft==1.3.0->cirq<1.4.0,>=1.0.0->mitiq) (0.8.3)\n",
            "Requirement already satisfied: argon2-cffi in /usr/local/lib/python3.10/dist-packages (from notebook>=4.4.1->widgetsnbextension~=3.6.0->ipywidgets->cirq-ft==1.3.0->cirq<1.4.0,>=1.0.0->mitiq) (23.1.0)\n",
            "Requirement already satisfied: nest-asyncio>=1.5 in /usr/local/lib/python3.10/dist-packages (from notebook>=4.4.1->widgetsnbextension~=3.6.0->ipywidgets->cirq-ft==1.3.0->cirq<1.4.0,>=1.0.0->mitiq) (1.6.0)\n",
            "Requirement already satisfied: Send2Trash>=1.8.0 in /usr/local/lib/python3.10/dist-packages (from notebook>=4.4.1->widgetsnbextension~=3.6.0->ipywidgets->cirq-ft==1.3.0->cirq<1.4.0,>=1.0.0->mitiq) (1.8.2)\n",
            "Requirement already satisfied: terminado>=0.8.3 in /usr/local/lib/python3.10/dist-packages (from notebook>=4.4.1->widgetsnbextension~=3.6.0->ipywidgets->cirq-ft==1.3.0->cirq<1.4.0,>=1.0.0->mitiq) (0.18.1)\n",
            "Requirement already satisfied: prometheus-client in /usr/local/lib/python3.10/dist-packages (from notebook>=4.4.1->widgetsnbextension~=3.6.0->ipywidgets->cirq-ft==1.3.0->cirq<1.4.0,>=1.0.0->mitiq) (0.20.0)\n",
            "Requirement already satisfied: nbclassic>=0.4.7 in /usr/local/lib/python3.10/dist-packages (from notebook>=4.4.1->widgetsnbextension~=3.6.0->ipywidgets->cirq-ft==1.3.0->cirq<1.4.0,>=1.0.0->mitiq) (1.0.0)\n",
            "Requirement already satisfied: ptyprocess>=0.5 in /usr/local/lib/python3.10/dist-packages (from pexpect>4.3->ipython>=4.0.0->ipywidgets->cirq-ft==1.3.0->cirq<1.4.0,>=1.0.0->mitiq) (0.7.0)\n",
            "Requirement already satisfied: wcwidth in /usr/local/lib/python3.10/dist-packages (from prompt-toolkit!=3.0.0,!=3.0.1,<3.1.0,>=2.0.0->ipython>=4.0.0->ipywidgets->cirq-ft==1.3.0->cirq<1.4.0,>=1.0.0->mitiq) (0.2.13)\n",
            "Requirement already satisfied: pyasn1<0.6.0,>=0.4.6 in /usr/local/lib/python3.10/dist-packages (from pyasn1-modules>=0.2.1->google-auth<3.0.dev0,>=2.14.1->google-api-core[grpc]>=1.14.0->cirq-google==1.3.0->cirq<1.4.0,>=1.0.0->mitiq) (0.5.1)\n",
            "Collecting ruamel.yaml.clib>=0.2.7 (from ruamel.yaml->rpcq<4.0.0,>=3.10.0->pyquil<4.0.0,>=3.2.0->cirq-rigetti==1.3.0->cirq<1.4.0,>=1.0.0->mitiq)\n",
            "  Downloading ruamel.yaml.clib-0.2.8-cp310-cp310-manylinux_2_17_x86_64.manylinux2014_x86_64.manylinux_2_24_x86_64.whl (526 kB)\n",
            "\u001b[2K     \u001b[90m━━━━━━━━━━━━━━━━━━━━━━━━━━━━━━━━━━━━━━━━\u001b[0m \u001b[32m526.7/526.7 kB\u001b[0m \u001b[31m59.5 MB/s\u001b[0m eta \u001b[36m0:00:00\u001b[0m\n",
            "\u001b[?25hCollecting h11<0.15,>=0.13 (from httpcore<0.17.0,>=0.15.0->httpx<0.24.0,>=0.23.0->qcs-api-client<0.22.0,>=0.21.0->pyquil<4.0.0,>=3.2.0->cirq-rigetti==1.3.0->cirq<1.4.0,>=1.0.0->mitiq)\n",
            "  Downloading h11-0.14.0-py3-none-any.whl (58 kB)\n",
            "\u001b[2K     \u001b[90m━━━━━━━━━━━━━━━━━━━━━━━━━━━━━━━━━━━━━━━━\u001b[0m \u001b[32m58.3/58.3 kB\u001b[0m \u001b[31m9.0 MB/s\u001b[0m eta \u001b[36m0:00:00\u001b[0m\n",
            "\u001b[?25hRequirement already satisfied: anyio<5.0,>=3.0 in /usr/local/lib/python3.10/dist-packages (from httpcore<0.17.0,>=0.15.0->httpx<0.24.0,>=0.23.0->qcs-api-client<0.22.0,>=0.21.0->pyquil<4.0.0,>=3.2.0->cirq-rigetti==1.3.0->cirq<1.4.0,>=1.0.0->mitiq) (3.7.1)\n",
            "Requirement already satisfied: jupyter-server>=1.8 in /usr/local/lib/python3.10/dist-packages (from nbclassic>=0.4.7->notebook>=4.4.1->widgetsnbextension~=3.6.0->ipywidgets->cirq-ft==1.3.0->cirq<1.4.0,>=1.0.0->mitiq) (1.24.0)\n",
            "Requirement already satisfied: notebook-shim>=0.2.3 in /usr/local/lib/python3.10/dist-packages (from nbclassic>=0.4.7->notebook>=4.4.1->widgetsnbextension~=3.6.0->ipywidgets->cirq-ft==1.3.0->cirq<1.4.0,>=1.0.0->mitiq) (0.2.4)\n",
            "Requirement already satisfied: argon2-cffi-bindings in /usr/local/lib/python3.10/dist-packages (from argon2-cffi->notebook>=4.4.1->widgetsnbextension~=3.6.0->ipywidgets->cirq-ft==1.3.0->cirq<1.4.0,>=1.0.0->mitiq) (21.2.0)\n",
            "Requirement already satisfied: exceptiongroup in /usr/local/lib/python3.10/dist-packages (from anyio<5.0,>=3.0->httpcore<0.17.0,>=0.15.0->httpx<0.24.0,>=0.23.0->qcs-api-client<0.22.0,>=0.21.0->pyquil<4.0.0,>=3.2.0->cirq-rigetti==1.3.0->cirq<1.4.0,>=1.0.0->mitiq) (1.2.0)\n",
            "Requirement already satisfied: websocket-client in /usr/local/lib/python3.10/dist-packages (from jupyter-server>=1.8->nbclassic>=0.4.7->notebook>=4.4.1->widgetsnbextension~=3.6.0->ipywidgets->cirq-ft==1.3.0->cirq<1.4.0,>=1.0.0->mitiq) (1.7.0)\n",
            "Requirement already satisfied: cffi>=1.0.1 in /usr/local/lib/python3.10/dist-packages (from argon2-cffi-bindings->argon2-cffi->notebook>=4.4.1->widgetsnbextension~=3.6.0->ipywidgets->cirq-ft==1.3.0->cirq<1.4.0,>=1.0.0->mitiq) (1.16.0)\n",
            "Requirement already satisfied: pycparser in /usr/local/lib/python3.10/dist-packages (from cffi>=1.0.1->argon2-cffi-bindings->argon2-cffi->notebook>=4.4.1->widgetsnbextension~=3.6.0->ipywidgets->cirq-ft==1.3.0->cirq<1.4.0,>=1.0.0->mitiq) (2.21)\n",
            "Building wheels for collected packages: lark, rpcq\n",
            "  Building wheel for lark (setup.py) ... \u001b[?25l\u001b[?25hdone\n",
            "  Created wheel for lark: filename=lark-0.11.3-py2.py3-none-any.whl size=99630 sha256=c7a0cb5f1996cd2361a9a933582525ef700794892cd446909dac54ea64a51b3f\n",
            "  Stored in directory: /root/.cache/pip/wheels/7d/72/22/a2dbd112cf05c55adf2e1ead5fba8aa527b848f01cdd99687c\n",
            "  Building wheel for rpcq (setup.py) ... \u001b[?25l\u001b[?25hdone\n",
            "  Created wheel for rpcq: filename=rpcq-3.11.0-py3-none-any.whl size=45967 sha256=8819a200a990b809eca13e59cae11525242384e6134dbbe6ed470504acfa8381\n",
            "  Stored in directory: /root/.cache/pip/wheels/91/97/0a/b384d94155345284ec00712ab814cbfb5bc2b631080b4fa4c3\n",
            "Successfully built lark rpcq\n",
            "Installing collected packages: types-retry, rfc3986, rfc3339, lark, types-python-dateutil, types-deprecated, ruamel.yaml.clib, retrying, python-rapidjson, pyrsistent, pydantic, jedi, iso8601, h11, duet, deprecated, attrs, ruamel.yaml, jsonschema, httpcore, rpcq, httpx, cirq-core, qcs-api-client, cirq-web, cirq-pasqal, cirq-ionq, cirq-aqt, pyquil, cirq-google, cirq-rigetti, cirq-ft, cirq, mitiq\n",
            "  Attempting uninstall: pydantic\n",
            "    Found existing installation: pydantic 2.6.4\n",
            "    Uninstalling pydantic-2.6.4:\n",
            "      Successfully uninstalled pydantic-2.6.4\n",
            "  Attempting uninstall: attrs\n",
            "    Found existing installation: attrs 23.2.0\n",
            "    Uninstalling attrs-23.2.0:\n",
            "      Successfully uninstalled attrs-23.2.0\n",
            "  Attempting uninstall: jsonschema\n",
            "    Found existing installation: jsonschema 4.19.2\n",
            "    Uninstalling jsonschema-4.19.2:\n",
            "      Successfully uninstalled jsonschema-4.19.2\n",
            "\u001b[31mERROR: pip's dependency resolver does not currently take into account all the packages that are installed. This behaviour is the source of the following dependency conflicts.\n",
            "referencing 0.33.0 requires attrs>=22.2.0, but you have attrs 21.4.0 which is incompatible.\u001b[0m\u001b[31m\n",
            "\u001b[0mSuccessfully installed attrs-21.4.0 cirq-1.3.0 cirq-aqt-1.3.0 cirq-core-1.3.0 cirq-ft-1.3.0 cirq-google-1.3.0 cirq-ionq-1.3.0 cirq-pasqal-1.3.0 cirq-rigetti-1.3.0 cirq-web-1.3.0 deprecated-1.2.14 duet-0.2.9 h11-0.14.0 httpcore-0.16.3 httpx-0.23.3 iso8601-1.1.0 jedi-0.19.1 jsonschema-4.17.3 lark-0.11.3 mitiq-0.34.0 pydantic-1.10.14 pyquil-3.5.4 pyrsistent-0.20.0 python-rapidjson-1.16 qcs-api-client-0.21.6 retrying-1.3.4 rfc3339-6.2 rfc3986-1.5.0 rpcq-3.11.0 ruamel.yaml-0.18.6 ruamel.yaml.clib-0.2.8 types-deprecated-1.2.9.20240311 types-python-dateutil-2.9.0.20240316 types-retry-0.9.9.4\n"
          ]
        },
        {
          "output_type": "display_data",
          "data": {
            "application/vnd.colab-display-data+json": {
              "pip_warning": {
                "packages": [
                  "attr"
                ]
              },
              "id": "1ec0dd6e1a334a8496625eb0cd456a41"
            }
          },
          "metadata": {}
        }
      ]
    },
    {
      "cell_type": "code",
      "source": [
        "import mitiq\n",
        "\n",
        "mitiq.SUPPORTED_PROGRAM_TYPES.keys()"
      ],
      "metadata": {
        "colab": {
          "base_uri": "https://localhost:8080/"
        },
        "id": "rJuYcAf9Y-xH",
        "outputId": "430a2567-7e66-41cd-fa5c-cccebde16802"
      },
      "execution_count": null,
      "outputs": [
        {
          "output_type": "execute_result",
          "data": {
            "text/plain": [
              "dict_keys(['cirq', 'pyquil', 'qiskit', 'braket', 'pennylane', 'qibo'])"
            ]
          },
          "metadata": {},
          "execution_count": 1
        }
      ]
    },
    {
      "cell_type": "code",
      "source": [
        "from qiskit import QuantumCircuit, transpile\n",
        "from qiskit_aer import AerSimulator\n",
        "from qiskit.visualization import plot_histogram"
      ],
      "metadata": {
        "id": "7eTSVPgT1Wyl"
      },
      "execution_count": null,
      "outputs": []
    },
    {
      "cell_type": "code",
      "source": [
        "frontend = \"pennylane\""
      ],
      "metadata": {
        "id": "cJddq6dFcR3a"
      },
      "execution_count": null,
      "outputs": []
    },
    {
      "cell_type": "code",
      "source": [
        "from functools import partial\n",
        "import matplotlib.pyplot as plt\n",
        "import numpy as np\n",
        "from scipy.optimize import brute\n",
        "import cirq\n",
        "\n",
        "import pennylane as qml\n",
        "from pennylane.pauli import pauli_word_to_string\n",
        "!pip install openfermionpyscf\n",
        "import mitiq\n",
        "from mitiq import zne  # Zero-noise extrapolation module\n",
        "from mitiq.interface.mitiq_cirq import compute_density_matrix"
      ],
      "metadata": {
        "colab": {
          "base_uri": "https://localhost:8080/"
        },
        "id": "LR5wH4kzgonK",
        "outputId": "08a91b53-3223-45fe-f374-8375dbb7648f"
      },
      "execution_count": null,
      "outputs": [
        {
          "output_type": "stream",
          "name": "stdout",
          "text": [
            "Collecting openfermionpyscf\n",
            "  Downloading openfermionpyscf-0.5-py3-none-any.whl (16 kB)\n",
            "Collecting openfermion>=0.5 (from openfermionpyscf)\n",
            "  Downloading openfermion-1.6.1-py3-none-any.whl (1.2 MB)\n",
            "\u001b[2K     \u001b[90m━━━━━━━━━━━━━━━━━━━━━━━━━━━━━━━━━━━━━━━━\u001b[0m \u001b[32m1.2/1.2 MB\u001b[0m \u001b[31m5.8 MB/s\u001b[0m eta \u001b[36m0:00:00\u001b[0m\n",
            "\u001b[?25hCollecting pyscf (from openfermionpyscf)\n",
            "  Downloading pyscf-2.5.0-py3-none-manylinux_2_17_x86_64.manylinux2014_x86_64.whl (47.3 MB)\n",
            "\u001b[2K     \u001b[90m━━━━━━━━━━━━━━━━━━━━━━━━━━━━━━━━━━━━━━━━\u001b[0m \u001b[32m47.3/47.3 MB\u001b[0m \u001b[31m22.5 MB/s\u001b[0m eta \u001b[36m0:00:00\u001b[0m\n",
            "\u001b[?25hRequirement already satisfied: pytest in /usr/local/lib/python3.10/dist-packages (from openfermionpyscf) (7.4.4)\n",
            "Requirement already satisfied: cirq-core~=1.0 in /usr/local/lib/python3.10/dist-packages (from openfermion>=0.5->openfermionpyscf) (1.3.0)\n",
            "Collecting deprecation (from openfermion>=0.5->openfermionpyscf)\n",
            "  Downloading deprecation-2.1.0-py2.py3-none-any.whl (11 kB)\n",
            "Requirement already satisfied: h5py>=2.8 in /usr/local/lib/python3.10/dist-packages (from openfermion>=0.5->openfermionpyscf) (3.9.0)\n",
            "Requirement already satisfied: networkx in /usr/local/lib/python3.10/dist-packages (from openfermion>=0.5->openfermionpyscf) (3.2.1)\n",
            "Requirement already satisfied: numpy>=1.11.0 in /usr/local/lib/python3.10/dist-packages (from openfermion>=0.5->openfermionpyscf) (1.25.2)\n",
            "Collecting pubchempy (from openfermion>=0.5->openfermionpyscf)\n",
            "  Downloading PubChemPy-1.0.4.tar.gz (29 kB)\n",
            "  Preparing metadata (setup.py) ... \u001b[?25l\u001b[?25hdone\n",
            "Requirement already satisfied: requests>=2.18 in /usr/local/lib/python3.10/dist-packages (from openfermion>=0.5->openfermionpyscf) (2.31.0)\n",
            "Requirement already satisfied: scipy>=1.1.0 in /usr/local/lib/python3.10/dist-packages (from openfermion>=0.5->openfermionpyscf) (1.11.4)\n",
            "Requirement already satisfied: sympy in /usr/local/lib/python3.10/dist-packages (from openfermion>=0.5->openfermionpyscf) (1.12)\n",
            "Requirement already satisfied: setuptools in /usr/local/lib/python3.10/dist-packages (from pyscf->openfermionpyscf) (67.7.2)\n",
            "Requirement already satisfied: iniconfig in /usr/local/lib/python3.10/dist-packages (from pytest->openfermionpyscf) (2.0.0)\n",
            "Requirement already satisfied: packaging in /usr/local/lib/python3.10/dist-packages (from pytest->openfermionpyscf) (24.0)\n",
            "Requirement already satisfied: pluggy<2.0,>=0.12 in /usr/local/lib/python3.10/dist-packages (from pytest->openfermionpyscf) (1.4.0)\n",
            "Requirement already satisfied: exceptiongroup>=1.0.0rc8 in /usr/local/lib/python3.10/dist-packages (from pytest->openfermionpyscf) (1.2.0)\n",
            "Requirement already satisfied: tomli>=1.0.0 in /usr/local/lib/python3.10/dist-packages (from pytest->openfermionpyscf) (2.0.1)\n",
            "Requirement already satisfied: duet~=0.2.8 in /usr/local/lib/python3.10/dist-packages (from cirq-core~=1.0->openfermion>=0.5->openfermionpyscf) (0.2.9)\n",
            "Requirement already satisfied: matplotlib~=3.0 in /usr/local/lib/python3.10/dist-packages (from cirq-core~=1.0->openfermion>=0.5->openfermionpyscf) (3.7.1)\n",
            "Requirement already satisfied: pandas in /usr/local/lib/python3.10/dist-packages (from cirq-core~=1.0->openfermion>=0.5->openfermionpyscf) (1.5.3)\n",
            "Requirement already satisfied: sortedcontainers~=2.0 in /usr/local/lib/python3.10/dist-packages (from cirq-core~=1.0->openfermion>=0.5->openfermionpyscf) (2.4.0)\n",
            "Requirement already satisfied: typing-extensions>=4.2 in /usr/local/lib/python3.10/dist-packages (from cirq-core~=1.0->openfermion>=0.5->openfermionpyscf) (4.10.0)\n",
            "Requirement already satisfied: tqdm in /usr/local/lib/python3.10/dist-packages (from cirq-core~=1.0->openfermion>=0.5->openfermionpyscf) (4.66.2)\n",
            "Requirement already satisfied: charset-normalizer<4,>=2 in /usr/local/lib/python3.10/dist-packages (from requests>=2.18->openfermion>=0.5->openfermionpyscf) (3.3.2)\n",
            "Requirement already satisfied: idna<4,>=2.5 in /usr/local/lib/python3.10/dist-packages (from requests>=2.18->openfermion>=0.5->openfermionpyscf) (3.6)\n",
            "Requirement already satisfied: urllib3<3,>=1.21.1 in /usr/local/lib/python3.10/dist-packages (from requests>=2.18->openfermion>=0.5->openfermionpyscf) (2.2.1)\n",
            "Requirement already satisfied: certifi>=2017.4.17 in /usr/local/lib/python3.10/dist-packages (from requests>=2.18->openfermion>=0.5->openfermionpyscf) (2024.2.2)\n",
            "Requirement already satisfied: mpmath>=0.19 in /usr/local/lib/python3.10/dist-packages (from sympy->openfermion>=0.5->openfermionpyscf) (1.3.0)\n",
            "Requirement already satisfied: contourpy>=1.0.1 in /usr/local/lib/python3.10/dist-packages (from matplotlib~=3.0->cirq-core~=1.0->openfermion>=0.5->openfermionpyscf) (1.2.0)\n",
            "Requirement already satisfied: cycler>=0.10 in /usr/local/lib/python3.10/dist-packages (from matplotlib~=3.0->cirq-core~=1.0->openfermion>=0.5->openfermionpyscf) (0.12.1)\n",
            "Requirement already satisfied: fonttools>=4.22.0 in /usr/local/lib/python3.10/dist-packages (from matplotlib~=3.0->cirq-core~=1.0->openfermion>=0.5->openfermionpyscf) (4.49.0)\n",
            "Requirement already satisfied: kiwisolver>=1.0.1 in /usr/local/lib/python3.10/dist-packages (from matplotlib~=3.0->cirq-core~=1.0->openfermion>=0.5->openfermionpyscf) (1.4.5)\n",
            "Requirement already satisfied: pillow>=6.2.0 in /usr/local/lib/python3.10/dist-packages (from matplotlib~=3.0->cirq-core~=1.0->openfermion>=0.5->openfermionpyscf) (9.4.0)\n",
            "Requirement already satisfied: pyparsing>=2.3.1 in /usr/local/lib/python3.10/dist-packages (from matplotlib~=3.0->cirq-core~=1.0->openfermion>=0.5->openfermionpyscf) (3.1.2)\n",
            "Requirement already satisfied: python-dateutil>=2.7 in /usr/local/lib/python3.10/dist-packages (from matplotlib~=3.0->cirq-core~=1.0->openfermion>=0.5->openfermionpyscf) (2.8.2)\n",
            "Requirement already satisfied: pytz>=2020.1 in /usr/local/lib/python3.10/dist-packages (from pandas->cirq-core~=1.0->openfermion>=0.5->openfermionpyscf) (2023.4)\n",
            "Requirement already satisfied: six>=1.5 in /usr/local/lib/python3.10/dist-packages (from python-dateutil>=2.7->matplotlib~=3.0->cirq-core~=1.0->openfermion>=0.5->openfermionpyscf) (1.16.0)\n",
            "Building wheels for collected packages: pubchempy\n",
            "  Building wheel for pubchempy (setup.py) ... \u001b[?25l\u001b[?25hdone\n",
            "  Created wheel for pubchempy: filename=PubChemPy-1.0.4-py3-none-any.whl size=13820 sha256=c9feed020adec185910a0a49c81e0644a6438ddc2bd1d234c5481c86cd3bdcd0\n",
            "  Stored in directory: /root/.cache/pip/wheels/90/7c/45/18a0671e3c3316966ef7ed9ad2b3f3300a7e41d3421a44e799\n",
            "Successfully built pubchempy\n",
            "Installing collected packages: pubchempy, deprecation, pyscf, openfermion, openfermionpyscf\n",
            "Successfully installed deprecation-2.1.0 openfermion-1.6.1 openfermionpyscf-0.5 pubchempy-1.0.4 pyscf-2.5.0\n"
          ]
        }
      ]
    },
    {
      "cell_type": "markdown",
      "source": [
        "Here, we have a function named energy that computes the energy at a given bond length (radius) using a provided ansatz circuit and a specified noise strength for depolarizing noise.\n",
        "\n",
        "\n",
        "\n",
        "It initializes a mitiq.Executor object named executor, which is used to evaluate the expectation value of the Hamiltonian with respect to the provided ansatz circuit.\n",
        "\n",
        "The noise_model variable is created using cirq.depolarize function with the specified depo_noise_strength, which generates a depolarizing noise model.\n",
        "\n",
        " the evaluate() method of the executor object is called with the provided ansatz, hamiltonian, and noise_model. The expectation value of the Hamiltonian is computed with the given noise model, and the real part of the result is returned as the energy value."
      ],
      "metadata": {
        "id": "R7QUMTVUVDga"
      }
    },
    {
      "cell_type": "code",
      "source": [
        "def energy(\n",
        "    ansatz: cirq.Circuit, radius_index: int, depo_noise_strength: float = 0.05\n",
        ") -> float:\n",
        "    \"\"\"Computes the energy at a given bond length (radius).\"\"\"\n",
        "    hamiltonian = hamiltonians[radius_index]\n",
        "    executor = mitiq.Executor(compute_density_matrix)\n",
        "    noise_model = cirq.depolarize(depo_noise_strength)\n",
        "    expec_val = executor.evaluate(ansatz, hamiltonian, noise_model=noise_model)[0]\n",
        "    return expec_val.real\n"
      ],
      "metadata": {
        "id": "esH2qpCDgqLS"
      },
      "execution_count": null,
      "outputs": []
    },
    {
      "cell_type": "markdown",
      "source": [
        "Here we have a funchun named ansatz that returns a parametrized quantum corccuit. This circuit is commonly used in variational quantum algorithms for quantum chemistry simulations.\n",
        "\n",
        "The function takes a single parameter theta, which is a floating-point value representing the variational parameter of the circuit.\n",
        "\n",
        "Inside the function, a quantum register qreg consisting of two qubits is initialized using cirq.LineQubit.range(2). This creates a list of two qubits labeled as [0, 1].\n",
        "\n",
        "The function then constructs a Cirq quantum circuit using the initialized qubits and a series of quantum gates\n",
        "This ansatz circuit introduces entanglement between the qubits through the CNOT gates and applies single-qubit rotations parameterized by theta. This parameter can be optimized to minimize the energy of the quantum system, typically using variational algorithms like the Variational Quantum Eigensolver (VQE)."
      ],
      "metadata": {
        "id": "NXe55LSlXbo5"
      }
    },
    {
      "cell_type": "code",
      "source": [
        "def ansatz(theta: float) -> cirq.Circuit:\n",
        "    \"\"\"Returns the circuit associated to the input variational parameter.\"\"\"\n",
        "    qreg = cirq.LineQubit.range(2)\n",
        "    return cirq.Circuit(\n",
        "        cirq.ops.X.on(qreg[1]),\n",
        "        cirq.ops.ry(np.pi / 2).on(qreg[0]),\n",
        "        cirq.ops.rx(-np.pi / 2).on(qreg[1]),\n",
        "        cirq.ops.CNOT.on(*qreg),\n",
        "        cirq.ops.rz(theta).on(qreg[1]),\n",
        "        cirq.ops.CNOT.on(*qreg),\n",
        "        cirq.ops.ry(-np.pi / 2).on(qreg[0]),\n",
        "        cirq.ops.rx(np.pi / 2).on(qreg[1]),\n",
        "    )"
      ],
      "metadata": {
        "id": "qcnxAn9Egu43"
      },
      "execution_count": null,
      "outputs": []
    },
    {
      "cell_type": "markdown",
      "source": [
        "Here in the next step we define the geometry of the molecule using the code given in Mitiq documentation"
      ],
      "metadata": {
        "id": "HCZwo7y_YCgC"
      }
    },
    {
      "cell_type": "code",
      "source": [
        "ang_to_bohr = 1.8897259886\n",
        "def molecular_hamiltonian(bond_length: float) -> mitiq.Observable:\n",
        "    \"\"\" Builds the Hamiltonian for H2 at a given bond length \"\"\"\n",
        "    symbols = ['H', 'H']\n",
        "    geometry = ang_to_bohr * np.array([[0., 0., - 0.5 * bond_length],\n",
        "                                       [0., 0., 0.5 * bond_length]])\n",
        "    mol = qml.qchem.Molecule(symbols, geometry)\n",
        "    Hamil, qubits = qml.qchem.molecular_hamiltonian(symbols, geometry, basis=\"sto-6g\",\n",
        "                                                    method=\"pyscf\", mapping=\"bravyi_kitaev\")\n",
        "\n",
        "    # tapering the Hamiltonian using symmetries\n",
        "    generators = [qml.PauliZ(1), qml.PauliZ(3)] # symmetries corresponding to qubit 1 and 3\n",
        "    paulix_ops = [qml.PauliX(1), qml.PauliX(3)] # corresponding paulix ops for tapering\n",
        "    eigval_sec = [1, 1] # optimal sector containing the ground state\n",
        "    Hamil_tapered = qml.taper(Hamil, generators, paulix_ops, eigval_sec)\n",
        "\n",
        "    # converting the tapered Hamiltonian to mitiq Observable\n",
        "    coeffs, ops = Hamil_tapered.terms()\n",
        "    wire_map = {0 : 0, 2 : 1} # for relabeling the qubits in the Pauli representation\n",
        "    pauli_str = [mitiq.PauliString(\n",
        "                pauli_word_to_string(op, wire_map=wire_map), coeff=coeff)\n",
        "                 for coeff, op in zip(coeffs, ops)]\n",
        "    hamil_obs = mitiq.Observable(*pauli_str)\n",
        "\n",
        "    return hamil_obs\n",
        "\n",
        "radii = np.linspace(0.2, 2.6, 13)\n",
        "hamiltonians = [molecular_hamiltonian(rad) for rad in radii]\n",
        "print(f\"Hamiltonian at R = {radii[0]} Angstroms is:\\n {hamiltonians[0]}\")"
      ],
      "metadata": {
        "colab": {
          "base_uri": "https://localhost:8080/"
        },
        "id": "FH92qlLRjzcO",
        "outputId": "2743e068-11b0-43c1-b091-5df09a447376"
      },
      "execution_count": null,
      "outputs": [
        {
          "output_type": "stream",
          "name": "stdout",
          "text": [
            "Hamiltonian at R = 0.2 Angstroms is:\n",
            " (2.8489027036618326+0j)*I + (0.5678139466276187+0j)*Z(q(0)) + (-1.4507698908879108+0j)*Z(q(1)) + (0.07906938229945977+0j)*Y(q(0))*Y(q(1)) + (0.07906938229945977+0j)*X(q(0))*X(q(1)) + (0.679939485653948+0j)*Z(q(0))*Z(q(1))\n"
          ]
        }
      ]
    },
    {
      "cell_type": "code",
      "source": [
        "# Define da quantum device\n",
        "dev = qml.device(\"default.qubit\", wires=2)\n",
        "\n",
        "# Define the ansatz or variational form\n",
        "def ansatz(params):\n",
        "    qml.RX(params[0], wires=0)\n",
        "    qml.RY(params[1], wires=1)\n",
        "    qml.CNOT(wires=[0, 1])\n",
        "    qml.RZ(params[2], wires=0)  # Add RZ gate to wire 0\n",
        "    qml.RX(params[3], wires=1)  # Add RX gate to wire 1\n",
        "\n",
        "# Define a function to execute the circuit and simulate noise\n",
        "def execute_circuit(params, noise_level):\n",
        "    # Load the quantum circuit\n",
        "    @qml.qnode(dev)\n",
        "    def circuit(params):\n",
        "        ansatz(params)\n",
        "        return qml.expval(qml.PauliZ(0))\n",
        "\n",
        "    # Apply depolarizing noise to the device\n",
        "    dev_depolarized = mitiq.simulate.NoisyQuantumDevice(circuit, noise_model=\"depolarizing\", noise_strength=noise_level)"
      ],
      "metadata": {
        "id": "pm0qTgKCkf7X"
      },
      "execution_count": null,
      "outputs": []
    },
    {
      "cell_type": "code",
      "source": [
        "import numpy as np\n",
        "import mitiq\n",
        "\n",
        "def depolarizing_noise_model(p_error_one_qubit, p_error_two_qubit):\n",
        "    \"\"\"\n",
        "    Create a noise model with depolarizing noise on all single-qubit and two-qubit gates.\n",
        "\n",
        "\n",
        "    \"\"\"\n",
        "    def apply_noise(circuit):\n",
        "        noisy_circuit = mitiq.add_depolarizing_noise(circuit, p_single_qubit=p_error_one_qubit, p_two_qubit=p_error_two_qubit)\n",
        "        return noisy_circuit\n",
        "\n",
        "    return apply_noise\n",
        "\n",
        "# Example usage\n",
        "p_error_one_qubit = 0.01\n",
        "p_error_two_qubit = 0.005\n",
        "dep_noise_model = depolarizing_noise_model(p_error_one_qubit, p_error_two_qubit)"
      ],
      "metadata": {
        "id": "LnaQ8Evyvfx9"
      },
      "execution_count": null,
      "outputs": []
    },
    {
      "cell_type": "markdown",
      "source": [
        "Here we  defineoe two quantum circuits\n",
        " We define the variable num_qubits to specify the number of qubits in the quantum circuits. In this case, it's set to 2.\n",
        "\n",
        " The entangled_circuit function defines a simple entangled circuit consisting of a Hadamard gate applied to the first qubit (Hadamard(wires=0)) followed by a controlled-NOT (CNOT) gate acting on both qubits (CNOT(wires=[0, 1])). The expectation value of the Pauli-Z operator on the first qubit is returned as the circuit output.\n",
        "The random_circuit function constructs a depth-3 random circuit. It iterates over each qubit and applies a Rot gate with randomly generated parameters (Rot(*params[i], wires=i)). After that, a series of gates including CNOT and additional Rot gates are applied in a structured manner. Finally, the expectation value of the Pauli-X operator on a randomly selected qubit is returned as the output.\n",
        " We define the observable for noiseless circuit execution. For the entangled circuit, we measure the expectation value of the tensor product of Pauli-Z operators acting on both qubits (qml.PauliZ(0) @ qml.PauliZ(1)). For the random circuit, we randomly select one qubit and measure the expectation value of the Pauli-X operator on that qubit (qml.PauliX(random.randint(0, num_qubits-1))).\n",
        "\n",
        " We specify the number of layers for the random circuit, set here to 3.\n",
        "\n",
        "We initialize the device using PennyLane's default qubit simulator (qml.device(\"default.qubit\", wires=num_qubits)).\n",
        "\n",
        "We define a function create_random_circuit to generate the random circuit. Inside this function, we construct the circuit by iterating over the specified number of layers and applying randomly generated parameterized gates."
      ],
      "metadata": {
        "id": "6-YIXT-nZiFm"
      }
    },
    {
      "cell_type": "code",
      "source": [
        "# Define the number of qubits\n",
        "num_qubits = 2\n",
        "\n",
        "# Circuit 1: Simple Entangled Circuit\n",
        "def entangled_circuit(params, **kwargs):\n",
        "    qml.Hadamard(wires=0)\n",
        "    qml.CNOT(wires=[0, 1])\n",
        "    return qml.expval(qml.PauliZ(0) @ qml.PauliZ(1))\n",
        "\n",
        "# Circuit 2: Depth-3 Random Circuit\n",
        "def random_circuit(params, **kwargs):\n",
        "    for i in range(num_qubits):\n",
        "        qml.Rot(*params[i], wires=i)\n",
        "\n",
        "    qml.CNOT(wires=[0, 1])\n",
        "    qml.Rot(*params[2], wires=0)\n",
        "    qml.Rot(*params[3], wires=1)\n",
        "    qml.CNOT(wires=[1, 0])\n",
        "    qml.Rot(*params[4], wires=0)\n",
        "    qml.Rot(*params[5], wires=1)\n",
        "\n",
        "    return qml.expval(qml.PauliX(random.randint(0, num_qubits-1)))\n",
        "\n",
        "# Define observable for noiseless circuit execution\n",
        "observable = qml.PauliZ(0) @ qml.PauliZ(1)  # For Circuit 1\n",
        "# observable = qml.PauliX(random.randint(0, num_qubits-1))  # For Circuit 2\n",
        "\n",
        "# Define number of layers for random circuit\n",
        "num_layers = 3\n",
        "\n",
        "# Initialize device\n",
        "dev = qml.device(\"default.qubit\", wires=num_qubits)\n",
        "\n",
        "# Define a function to create a random circuit\n",
        "def create_random_circuit(num_layers):\n",
        "    @qml.qnode(dev)\n",
        "    def circuit(params):\n",
        "        for layer in range(num_layers):\n",
        "            random_params = np.random.rand(num_qubits, 3) * 2 * np.pi\n",
        "            random_circuit(random_params)\n",
        "        return qml.expval(observable)\n",
        "    return circuit\n",
        "\n",
        "# Create random circuit\n",
        "random_circuit = create_random_circuit(num_layers)\n",
        "\n"
      ],
      "metadata": {
        "id": "fk7CTRvvFXAR"
      },
      "execution_count": null,
      "outputs": []
    },
    {
      "cell_type": "code",
      "source": [
        "import pennylane as qml\n",
        "from pennylane import numpy as np\n",
        "import matplotlib.pyplot as plt\n",
        "from mitiq.zne import mitigate_executor\n",
        "from mitiq.zne.inference import RichardsonFactory\n",
        "from mitiq.zne.scaling import fold_global as folding\n",
        "\n",
        "# Describe noise\n",
        "noise_strength = 0.04\n"
      ],
      "metadata": {
        "id": "SQQw2UpylqWX"
      },
      "execution_count": null,
      "outputs": []
    },
    {
      "cell_type": "code",
      "source": [
        "# Ideal device\n",
        "dev = qml.device('default.mixed', wires=2)\n",
        "\n",
        "# Noisy device\n",
        "dev_noisy = qml.transforms.insert(dev, qml.DepolarizingChannel, noise_strength)\n",
        "\n",
        "# Define the variational circuit\n",
        "def variational_circuit(gamma):\n",
        "    qml.RX(gamma, wires=0)\n",
        "    qml.CNOT(wires=[0,1])\n",
        "    qml.RX(gamma, wires=1)\n",
        "    qml.CNOT(wires=[0, 1])\n",
        "    qml.RX(gamma, wires=0)\n"
      ],
      "metadata": {
        "id": "4ewuG_qWl0ig"
      },
      "execution_count": null,
      "outputs": []
    },
    {
      "cell_type": "code",
      "source": [
        "# Observable to measure\n",
        "z = np.diag([1, -1])\n",
        "hamiltonian = np.kron(z, z)\n",
        "\n",
        "@qml.qnode(dev)\n",
        "def noiseless_executor(gamma):\n",
        "    variational_circuit(gamma)\n",
        "    return qml.expval(qml.Hermitian(hamiltonian, wires=[0, 1]))\n",
        "\n",
        "@qml.qnode(dev_noisy)\n",
        "def executor_with_noise(gamma):\n",
        "    variational_circuit(gamma)\n",
        "    return qml.expval(qml.Hermitian(hamiltonian, wires=[0, 1]))\n"
      ],
      "metadata": {
        "id": "PBIUUEvOl3w4"
      },
      "execution_count": null,
      "outputs": []
    },
    {
      "cell_type": "markdown",
      "source": [
        "applying Unitary folding now"
      ],
      "metadata": {
        "id": "ZlVAS8jT7Szm"
      }
    },
    {
      "cell_type": "code",
      "source": [
        "def unitary_folding(k, L, n, angs):\n",
        "    print(f'Folding {k} times')\n",
        "\n",
        "def generate_QC(L, n, angs):\n",
        "    qc = QuantumCircuit(n)\n",
        "\n",
        "    for i, ang in enumerate(angs):\n",
        "        qc.rx(ang, i)\n",
        "\n",
        "    return qc\n",
        "\n",
        "    # Transpile the circuit\n",
        "    transpiled = transpile(circ, sim_noise)\n",
        "\n",
        "    # Compose the circuit with itself k-1 times\n",
        "    for _ in range(k-1):\n",
        "        transpiled = transpiled.compose(transpile(circ, sim_noise))\n",
        "\n",
        "    # Measure all qubits\n",
        "    transpiled.measure_all()\n",
        "\n",
        "    # Print the transpiled circuit\n",
        "    print(transpiled)\n",
        "\n",
        "    # Simulate the transpiled circuit\n",
        "    result_noise = sim_noise.run(transpiled).result()\n",
        "    counts_noise = result_noise.get_counts()\n",
        "    counts_noise_int = {int(z, 2): counts for z, counts in counts_noise.items()}\n",
        "    prob_noise = probabilities(counts_noise_int)\n",
        "\n",
        "    return prob_noise\n",
        "\n",
        "# Example usage\n",
        "L = 2\n",
        "n = 2\n",
        "angs = [0.1, 0.2, 0.3, 0.4]\n",
        "k = 3\n",
        "\n",
        "# Assume you have already defined generate_QC and probabilities functions\n",
        "# and have instantiated sim_noise as an AerSimulator\n",
        "\n",
        "unitary_folding_result = unitary_folding(k, L, n, angs)\n",
        "print(\"Result:\", unitary_folding_result)"
      ],
      "metadata": {
        "colab": {
          "base_uri": "https://localhost:8080/"
        },
        "id": "MyZIsQh16rQJ",
        "outputId": "e91da745-60ee-4fc0-9b43-eec64ab5fd31"
      },
      "execution_count": null,
      "outputs": [
        {
          "output_type": "stream",
          "name": "stdout",
          "text": [
            "Folding 3 times\n",
            "Result: None\n"
          ]
        }
      ]
    },
    {
      "cell_type": "markdown",
      "source": [
        "lets plot results"
      ],
      "metadata": {
        "id": "_MQR3xDebtB0"
      }
    },
    {
      "cell_type": "code",
      "source": [
        "gammas = np.linspace(0, 2 * np.pi, 50)\n",
        "noiseless_expectations = [np.real(noiseless_executor(g)) for g in gammas]\n",
        "\n",
        "plt.figure(figsize=(8, 6))\n",
        "plt.plot(gammas, noiseless_expectations, color=\"g\", linewidth=3, label=\"Noiseless\")\n",
        "plt.title(\"Energy landscape\", fontsize=16)\n",
        "plt.xlabel(r\"Variational angle $\\gamma$\", fontsize=16)\n",
        "plt.ylabel(r\"$\\langle H \\rangle(\\gamma)$\", fontsize=16)\n",
        "plt.legend(fontsize=14)\n",
        "plt.ylim(-1, 1)\n",
        "plt.show()\n"
      ],
      "metadata": {
        "colab": {
          "base_uri": "https://localhost:8080/",
          "height": 583
        },
        "id": "r8E2UTCnl64Q",
        "outputId": "e20cb20b-655d-4d66-e31a-46e864ca2671"
      },
      "execution_count": null,
      "outputs": [
        {
          "output_type": "display_data",
          "data": {
            "text/plain": [
              "<Figure size 800x600 with 1 Axes>"
            ],
            "image/png": "[encoded data removed]"
          },
          "metadata": {}
        }
      ]
    },
    {
      "cell_type": "code",
      "source": [
        "!pip install qiskit-ibm-provider"
      ],
      "metadata": {
        "colab": {
          "base_uri": "https://localhost:8080/"
        },
        "id": "aHcC8QoV5AX-",
        "outputId": "d5f8318b-42a8-4d55-cfc5-d072852f36d4"
      },
      "execution_count": null,
      "outputs": [
        {
          "output_type": "stream",
          "name": "stdout",
          "text": [
            "Collecting qiskit-ibm-provider\n",
            "  Downloading qiskit_ibm_provider-0.10.0-py3-none-any.whl (249 kB)\n",
            "\u001b[2K     \u001b[90m━━━━━━━━━━━━━━━━━━━━━━━━━━━━━━━━━━━━━━━━\u001b[0m \u001b[32m249.6/249.6 kB\u001b[0m \u001b[31m2.7 MB/s\u001b[0m eta \u001b[36m0:00:00\u001b[0m\n",
            "\u001b[?25hRequirement already satisfied: qiskit>=0.45.0 in /usr/local/lib/python3.10/dist-packages (from qiskit-ibm-provider) (1.0.2)\n",
            "Requirement already satisfied: requests>=2.19 in /usr/local/lib/python3.10/dist-packages (from qiskit-ibm-provider) (2.31.0)\n",
            "Requirement already satisfied: requests-ntlm>=1.1.0 in /usr/local/lib/python3.10/dist-packages (from qiskit-ibm-provider) (1.2.0)\n",
            "Requirement already satisfied: numpy>=1.13 in /usr/local/lib/python3.10/dist-packages (from qiskit-ibm-provider) (1.25.2)\n",
            "Requirement already satisfied: urllib3>=1.21.1 in /usr/local/lib/python3.10/dist-packages (from qiskit-ibm-provider) (2.2.1)\n",
            "Requirement already satisfied: python-dateutil>=2.8.0 in /usr/local/lib/python3.10/dist-packages (from qiskit-ibm-provider) (2.8.2)\n",
            "Requirement already satisfied: websocket-client>=1.5.1 in /usr/local/lib/python3.10/dist-packages (from qiskit-ibm-provider) (1.7.0)\n",
            "Collecting websockets>=10.0 (from qiskit-ibm-provider)\n",
            "  Downloading websockets-12.0-cp310-cp310-manylinux_2_5_x86_64.manylinux1_x86_64.manylinux_2_17_x86_64.manylinux2014_x86_64.whl (130 kB)\n",
            "\u001b[2K     \u001b[90m━━━━━━━━━━━━━━━━━━━━━━━━━━━━━━━━━━━━━━━━\u001b[0m \u001b[32m130.2/130.2 kB\u001b[0m \u001b[31m15.3 MB/s\u001b[0m eta \u001b[36m0:00:00\u001b[0m\n",
            "\u001b[?25hRequirement already satisfied: typing-extensions>=4.3 in /usr/local/lib/python3.10/dist-packages (from qiskit-ibm-provider) (4.10.0)\n",
            "Requirement already satisfied: six>=1.5 in /usr/local/lib/python3.10/dist-packages (from python-dateutil>=2.8.0->qiskit-ibm-provider) (1.16.0)\n",
            "Requirement already satisfied: rustworkx>=0.14.0 in /usr/local/lib/python3.10/dist-packages (from qiskit>=0.45.0->qiskit-ibm-provider) (0.14.2)\n",
            "Requirement already satisfied: scipy>=1.5 in /usr/local/lib/python3.10/dist-packages (from qiskit>=0.45.0->qiskit-ibm-provider) (1.11.4)\n",
            "Requirement already satisfied: sympy>=1.3 in /usr/local/lib/python3.10/dist-packages (from qiskit>=0.45.0->qiskit-ibm-provider) (1.12)\n",
            "Requirement already satisfied: dill>=0.3 in /usr/local/lib/python3.10/dist-packages (from qiskit>=0.45.0->qiskit-ibm-provider) (0.3.8)\n",
            "Requirement already satisfied: stevedore>=3.0.0 in /usr/local/lib/python3.10/dist-packages (from qiskit>=0.45.0->qiskit-ibm-provider) (5.2.0)\n",
            "Requirement already satisfied: symengine>=0.11 in /usr/local/lib/python3.10/dist-packages (from qiskit>=0.45.0->qiskit-ibm-provider) (0.11.0)\n",
            "Requirement already satisfied: charset-normalizer<4,>=2 in /usr/local/lib/python3.10/dist-packages (from requests>=2.19->qiskit-ibm-provider) (3.3.2)\n",
            "Requirement already satisfied: idna<4,>=2.5 in /usr/local/lib/python3.10/dist-packages (from requests>=2.19->qiskit-ibm-provider) (3.6)\n",
            "Requirement already satisfied: certifi>=2017.4.17 in /usr/local/lib/python3.10/dist-packages (from requests>=2.19->qiskit-ibm-provider) (2024.2.2)\n",
            "Requirement already satisfied: cryptography>=1.3 in /usr/local/lib/python3.10/dist-packages (from requests-ntlm>=1.1.0->qiskit-ibm-provider) (42.0.5)\n",
            "Requirement already satisfied: pyspnego>=0.1.6 in /usr/local/lib/python3.10/dist-packages (from requests-ntlm>=1.1.0->qiskit-ibm-provider) (0.10.2)\n",
            "Requirement already satisfied: cffi>=1.12 in /usr/local/lib/python3.10/dist-packages (from cryptography>=1.3->requests-ntlm>=1.1.0->qiskit-ibm-provider) (1.16.0)\n",
            "Requirement already satisfied: pbr!=2.1.0,>=2.0.0 in /usr/local/lib/python3.10/dist-packages (from stevedore>=3.0.0->qiskit>=0.45.0->qiskit-ibm-provider) (6.0.0)\n",
            "Requirement already satisfied: mpmath>=0.19 in /usr/local/lib/python3.10/dist-packages (from sympy>=1.3->qiskit>=0.45.0->qiskit-ibm-provider) (1.3.0)\n",
            "Requirement already satisfied: pycparser in /usr/local/lib/python3.10/dist-packages (from cffi>=1.12->cryptography>=1.3->requests-ntlm>=1.1.0->qiskit-ibm-provider) (2.21)\n",
            "Installing collected packages: websockets, qiskit-ibm-provider\n",
            "Successfully installed qiskit-ibm-provider-0.10.0 websockets-12.0\n"
          ]
        }
      ]
    },
    {
      "cell_type": "code",
      "source": [
        "import numpy as np\n",
        "import matplotlib.pyplot as plt\n",
        "\n",
        "def plot_ground_state_number(executor, gammas, target_energy):\n",
        "    \"\"\"\n",
        "    Plot the ground state number as a function of the variational parameter.\n",
        "\n",
        "    Args:\n",
        "        executor (function): Function to execute the quantum circuit and compute energy.\n",
        "        gammas (array-like): Array of variational parameters.\n",
        "        target_energy (float): Target ground state energy.\n",
        "\n",
        "    Returns:\n",
        "        None\n",
        "    \"\"\"\n",
        "    # Compute the energies for different values of the variational parameter\n",
        "    energies = [np.real(executor(g)) for g in gammas]\n",
        "\n",
        "    # Compute the ground state number\n",
        "    ground_state_numbers = [1 if energy <= target_energy else 0 for energy in energies]\n",
        "\n",
        "    # Plot the ground state number\n",
        "    plt.figure(figsize=(8, 6))\n",
        "    plt.plot(gammas, ground_state_numbers, color=\"b\", linewidth=2, label=\"Ground State\")\n",
        "    plt.title(\"Ground State Number\", fontsize=16)\n",
        "    plt.xlabel(r\"Variational angle $\\gamma$\", fontsize=16)\n",
        "    plt.ylabel(\"Ground State Number\", fontsize=16)\n",
        "    plt.legend(fontsize=14)\n",
        "    plt.ylim(-0.1, 1.1)\n",
        "    plt.show()\n",
        "\n",
        "\n",
        "\n"
      ],
      "metadata": {
        "id": "xLebC7h_cCAh"
      },
      "execution_count": null,
      "outputs": []
    },
    {
      "cell_type": "code",
      "source": [
        "expectations = [np.real(executor_with_noise(g)) for g in gammas]\n"
      ],
      "metadata": {
        "id": "2-ake07WmSnH"
      },
      "execution_count": null,
      "outputs": []
    },
    {
      "cell_type": "markdown",
      "source": [
        "we compute and visualize energy landscapes of a quantum system under different noise levels, both with and without error mitigation using Zero-Noise Extrapolation (ZNE).\n",
        "\n",
        "\n",
        "Energy Funcchun (energy)\n",
        "\n",
        "This function computes the energy of a quantum circuit (ansatz) at a given bond length (radius) using a Hamiltonian defined by hamiltonians[radius_index].\n",
        "It employs the mitiq.Executor to evaluate the expectation value of the Hamiltonian using compute_density_matrix.\n",
        "The noise model function cirq.depolarize and noise level (depo_noise_strength,) are passed as keyword arguments (kwargs) to the Executor.\n",
        "Ansatz Funchunn (ansatz)\n",
        "\n",
        "This function returns a parameterized quantum circuit (cirq.Circuit) associated with the input variational parameter theta.\n",
        "The circuit applies a series of quantum gates (X, RY, RX, CNOT, RZ) to two qubits.\n",
        "Noise Levels and Variational Parameters\n",
        "\n",
        "we Define the noise levels pvals and variational parameters thetas.\n",
        "pvals: Tuple containing noise levels (depolarizing noise strength).\n",
        "thetas: Array of variational parameters ranging from 0 to 2 * np.pi.\n",
        "\n",
        "For each noise level (pval), we compute the energies of the quantum circuits for different thetas using the energy function.\n",
        "Store the computed energies in all_energies.\n",
        "\n",
        "we Apply Zero-Noise Extrapolation (ZNE) to mitigate the effects of noise on the computed energies.\n",
        "Using the mitiq.zne.execute_with_zne function to execute the quantum circuits with error mitigation.\n",
        "Store the mitigated energies in all_mitigated.\n",
        "in the endd we Plot the unmitigated and mitigated energy landscapes side by side.\n",
        "In the first subplot (Unmitigated), plot the energy landscapes for different noise levels without error mitigation.\n",
        "In the second subplot (Mitigated with ZNE), plot the energy landscapes with error mitigation using ZNE.\n",
        "The plots show how the energy landscapes change with varying noise levels and the effectiveness of error mitigation.\n",
        "\n",
        "\n",
        "\n",
        "\n",
        "\n",
        "\n"
      ],
      "metadata": {
        "id": "DuGW34FIdUoK"
      }
    },
    {
      "cell_type": "code",
      "source": [
        "import numpy as np\n",
        "import cirq\n",
        "import mitiq\n",
        "from scipy.optimize import brute\n",
        "from functools import partial\n",
        "\n",
        "def energy(ansatz: cirq.Circuit, radius_index: int, depo_noise_strength: float = 0.05) -> float:\n",
        "    \"\"\"Computes the energy at a given bond length (radius).\"\"\"\n",
        "    hamiltonian = hamiltonians[radius_index]\n",
        "    executor = mitiq.Executor(compute_density_matrix)\n",
        "    kwargs = {\"noise_model_function\": cirq.depolarize, \"noise_level\": (depo_noise_strength,)}\n",
        "    expec_val = executor.evaluate(ansatz, hamiltonian, **kwargs)[0]\n",
        "    return expec_val.real\n",
        "\n",
        "def ansatz(theta: float) -> cirq.Circuit:\n",
        "    \"\"\"Returns the circuit associated with the input variational parameter.\"\"\"\n",
        "    qreg = cirq.LineQubit.range(2)\n",
        "    return cirq.Circuit(\n",
        "        cirq.ops.X.on(qreg[1]),\n",
        "        cirq.ops.ry(np.pi / 2).on(qreg[0]),\n",
        "        cirq.ops.rx(-np.pi / 2).on(qreg[1]),\n",
        "        cirq.ops.CNOT.on(*qreg),\n",
        "        cirq.ops.rz(theta).on(qreg[1]),\n",
        "        cirq.ops.CNOT.on(*qreg),\n",
        "        cirq.ops.ry(-np.pi / 2).on(qreg[0]),\n",
        "        cirq.ops.rx(np.pi / 2).on(qreg[1]),\n",
        "    )\n",
        "\n",
        "# Noise levels\n",
        "pvals = (0.00, 0.02, 0.04)\n",
        "# Variational parameters\n",
        "thetas = np.linspace(0.0, 2.0 * np.pi, 10)\n",
        "\n",
        "all_energies = []\n",
        "for pval in pvals:\n",
        "    energies = []\n",
        "    for theta in thetas:\n",
        "        energies.append(energy(ansatz(theta), radius_index=0, depo_noise_strength=pval))\n",
        "    all_energies.append(energies)\n",
        "\n",
        "# Applying zero-noise extrapolation to estimate mitigated energy landscapes\n",
        "scaling_function = mitiq.zne.scaling.fold_global\n",
        "fac = mitiq.zne.inference.RichardsonFactory(scale_factors=[1, 3, 5])\n",
        "num_to_average = 1\n",
        "\n",
        "all_mitigated = []\n",
        "for p in pvals[1:]:\n",
        "    mitigated = []\n",
        "    for theta in thetas:\n",
        "        execute = partial(energy, radius_index=0, depo_noise_strength=p)\n",
        "        zne_value = mitiq.zne.execute_with_zne(\n",
        "            ansatz(theta),\n",
        "            execute,\n",
        "            factory=fac,\n",
        "            scale_noise=scaling_function,\n",
        "            num_to_average=num_to_average,\n",
        "        )\n",
        "        mitigated.append(zne_value)\n",
        "    all_mitigated.append(mitigated)\n",
        "\n",
        "# Visualizing the results\n",
        "plt.rcParams.update({\"font.family\": \"serif\", \"font.size\": 14, \"font.weight\": \"bold\"})\n",
        "plt.figure(figsize=(15, 5))\n",
        "\n",
        "# Plot unmitigated results\n",
        "plt.subplot(121)\n",
        "plt.title(\"Unmitigated\")\n",
        "for i in range(len(all_energies)):\n",
        "    plt.plot(\n",
        "        thetas,\n",
        "        all_energies[i],\n",
        "        \"--s\",\n",
        "        lw=3,\n",
        "        markersize=10,\n",
        "        markeredgecolor=\"black\",\n",
        "        alpha=0.7,\n",
        "        label=f\"$p = {pvals[i]}$\",\n",
        "    )\n",
        "plt.xlabel(r\"$\\theta$\")\n",
        "plt.ylabel(r\"$E(\\theta)$\")\n",
        "plt.legend()\n",
        "\n",
        "# Plot mitigated results\n",
        "plt.subplot(122)\n",
        "plt.title(\"Mitigated with ZNE\")\n",
        "plt.plot(\n",
        "    thetas,\n",
        "    all_energies[0],\n",
        "    \"--s\",\n",
        "    lw=3,\n",
        "    markersize=10,\n",
        "    markeredgecolor=\"black\",\n",
        "    alpha=0.7,\n",
        "    label=\"$p = 0.0$\",\n",
        ")\n",
        "for i in range(len(all_mitigated)):\n",
        "    plt.plot(\n",
        "        thetas,\n",
        "        all_mitigated[i],\n",
        "        \"--o\",\n",
        "        lw=3,\n",
        "        markersize=10,\n",
        "        markeredgecolor=\"black\",\n",
        "        alpha=0.7,\n",
        "        label=f\"$p = {pvals[i + 1]}$\",\n",
        "    )\n",
        "plt.xlabel(r\"$\\theta$\")\n",
        "plt.legend()\n",
        "plt.tight_layout()\n",
        "plt.show()\n"
      ],
      "metadata": {
        "colab": {
          "base_uri": "https://localhost:8080/",
          "height": 458
        },
        "id": "aWkBWqoWn1HC",
        "outputId": "1ec63215-eeb9-4273-9759-b202d60bec72"
      },
      "execution_count": null,
      "outputs": [
        {
          "output_type": "display_data",
          "data": {
            "text/plain": [
              "<Figure size 1500x500 with 2 Axes>"
            ],
            "image/png": "[encoded data removed]"
          },
          "metadata": {}
        }
      ]
    },
    {
      "cell_type": "code",
      "source": [
        "import numpy as np\n",
        "import matplotlib.pyplot as plt\n",
        "from scipy.optimize import curve_fit\n",
        "\n",
        "# Define the degree of the polynomial fit\n",
        "deg = 2\n",
        "\n",
        "# Define the ideal and unmitigated probabilities\n",
        "def probabilities(counts):\n",
        "    total_counts = sum(counts.values())\n",
        "    return {outcome: count / total_counts for outcome, count in counts.items()}\n",
        "\n",
        "def plot(probs, outcome):\n",
        "    # Fit a polynomial to the data\n",
        "    def polynomial_fit(x, *coefficients):\n",
        "        return sum(coefficients[i] * x**i for i in range(deg + 1))\n",
        "\n",
        "    # Perform curve fitting to find the polynomial coefficients\n",
        "    coeffs, _ = curve_fit(polynomial_fit, ks, probs)\n",
        "\n",
        "    # Plot the fitted polynomial curve\n",
        "    x_vals = np.arange(kmax)\n",
        "    plt.plot(x_vals, polynomial_fit(x_vals, *coeffs), c=f'C{outcome}')\n",
        "\n",
        "    # Print unmitigated and mitigated outcomes\n",
        "    f = polynomial_fit(0, *coeffs)\n",
        "    print(f\"\\x1b[31m\\\"Unmitigated outcome {outcome}: {prob_unmitigated[outcome]} \\\"\\x1b[0m\")\n",
        "    print(f\"\\x1b[31m\\\"Mitigated outcome {outcome}: {round(f, 2)} \\\"\\x1b[0m\")\n",
        "\n",
        "    # Scatter plot of the data points\n",
        "    plt.scatter(ks, probs, c=f'C{outcome}', label=\"error mitigation\")\n",
        "\n",
        "    # Plot the ideal value as a horizontal line\n",
        "    plt.axhline(prob_ideal[outcome], color='red', linestyle='--', label='ideal')\n",
        "\n",
        "    # Set plot title and labels\n",
        "    plt.title(f'Post Error Mitigation :: Probability (Expectation Value) for Outcome {outcome} = {round(f, 2)}')\n",
        "    plt.ylabel(f'Estimated Probability (Outcome {outcome})')\n",
        "    plt.xlabel('Number of Repetitions of the Circuit')\n",
        "    plt.legend()\n",
        "    plt.show()\n",
        "    print(\"\\n\")\n",
        "\n",
        "# Print error rates\n",
        "print(f'For depolarizing single-qubit error p = {p_error_one_qubit} and two-qubit error p = {p_error_two_qubit}\\n')\n",
        "\n",
        "# Iterate over all outcomes and plot them\n",
        "prob_noise_list = [\n",
        "    [0.1, 0.2, 0.3],  # Probabilities for outcome 0\n",
        "    [0.2, 0.3, 0.1],  # Probabilities for outcome 1\n",
        "    # Add more probabilities for other outcomes as needed\n",
        "]\n"
      ],
      "metadata": {
        "colab": {
          "base_uri": "https://localhost:8080/"
        },
        "id": "Ifjdvh0A9Hwr",
        "outputId": "c16a986b-0b7f-4e03-dd2b-7ec1f5502a25"
      },
      "execution_count": null,
      "outputs": [
        {
          "output_type": "stream",
          "name": "stdout",
          "text": [
            "For depolarizing single-qubit error p = 0.01 and two-qubit error p = 0.005\n",
            "\n"
          ]
        }
      ]
    }
  ]
}